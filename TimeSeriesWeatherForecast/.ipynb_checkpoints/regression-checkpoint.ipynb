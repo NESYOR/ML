{
 "cells": [
  {
   "cell_type": "code",
   "execution_count": 1,
   "id": "265a44b7",
   "metadata": {},
   "outputs": [],
   "source": [
    "#importing required libraries\n",
    "import pandas as pd\n",
    "import numpy as np \n",
    "import seaborn as sns\n",
    "import matplotlib.pyplot as plt \n",
    "%matplotlib inline\n",
    "\n",
    "from sklearn.metrics import mean_squared_log_error\n",
    "from math import sqrt\n",
    "from statistics import mean, stdev\n",
    "\n",
    "import warnings\n",
    "warnings.filterwarnings(\"ignore\")"
   ]
  },
  {
   "cell_type": "code",
   "execution_count": 2,
   "id": "cf4824c4",
   "metadata": {},
   "outputs": [],
   "source": [
    "df=pd.read_csv(\"ailerons_train.csv\")"
   ]
  },
  {
   "cell_type": "code",
   "execution_count": 4,
   "id": "e035bfb8",
   "metadata": {
    "scrolled": true
   },
   "outputs": [
    {
     "data": {
      "text/html": [
       "<div>\n",
       "<style scoped>\n",
       "    .dataframe tbody tr th:only-of-type {\n",
       "        vertical-align: middle;\n",
       "    }\n",
       "\n",
       "    .dataframe tbody tr th {\n",
       "        vertical-align: top;\n",
       "    }\n",
       "\n",
       "    .dataframe thead th {\n",
       "        text-align: right;\n",
       "    }\n",
       "</style>\n",
       "<table border=\"1\" class=\"dataframe\">\n",
       "  <thead>\n",
       "    <tr style=\"text-align: right;\">\n",
       "      <th></th>\n",
       "      <th>climbRate</th>\n",
       "      <th>Sgz</th>\n",
       "      <th>p</th>\n",
       "      <th>q</th>\n",
       "      <th>curPitch</th>\n",
       "      <th>curRoll</th>\n",
       "      <th>absRoll</th>\n",
       "      <th>diffClb</th>\n",
       "      <th>diffRollRate</th>\n",
       "      <th>diffDiffClb</th>\n",
       "      <th>...</th>\n",
       "      <th>diffSeTime8</th>\n",
       "      <th>diffSeTime9</th>\n",
       "      <th>diffSeTime10</th>\n",
       "      <th>diffSeTime11</th>\n",
       "      <th>diffSeTime12</th>\n",
       "      <th>diffSeTime13</th>\n",
       "      <th>diffSeTime14</th>\n",
       "      <th>alpha</th>\n",
       "      <th>Se</th>\n",
       "      <th>goal</th>\n",
       "    </tr>\n",
       "  </thead>\n",
       "  <tbody>\n",
       "    <tr>\n",
       "      <th>0</th>\n",
       "      <td>2</td>\n",
       "      <td>-56</td>\n",
       "      <td>-0.33</td>\n",
       "      <td>-0.09</td>\n",
       "      <td>0.90</td>\n",
       "      <td>0.2</td>\n",
       "      <td>-11</td>\n",
       "      <td>12</td>\n",
       "      <td>0.004</td>\n",
       "      <td>-0.1</td>\n",
       "      <td>...</td>\n",
       "      <td>0.0</td>\n",
       "      <td>0.0</td>\n",
       "      <td>0.0</td>\n",
       "      <td>0.0</td>\n",
       "      <td>0.0</td>\n",
       "      <td>0.000</td>\n",
       "      <td>0.0</td>\n",
       "      <td>0.9</td>\n",
       "      <td>0.032</td>\n",
       "      <td>-0.0009</td>\n",
       "    </tr>\n",
       "    <tr>\n",
       "      <th>1</th>\n",
       "      <td>470</td>\n",
       "      <td>-39</td>\n",
       "      <td>0.02</td>\n",
       "      <td>0.12</td>\n",
       "      <td>0.39</td>\n",
       "      <td>-0.6</td>\n",
       "      <td>-12</td>\n",
       "      <td>8</td>\n",
       "      <td>0.009</td>\n",
       "      <td>-1.6</td>\n",
       "      <td>...</td>\n",
       "      <td>0.0</td>\n",
       "      <td>0.0</td>\n",
       "      <td>0.0</td>\n",
       "      <td>0.0</td>\n",
       "      <td>0.0</td>\n",
       "      <td>0.000</td>\n",
       "      <td>0.0</td>\n",
       "      <td>0.9</td>\n",
       "      <td>0.034</td>\n",
       "      <td>-0.0011</td>\n",
       "    </tr>\n",
       "    <tr>\n",
       "      <th>2</th>\n",
       "      <td>165</td>\n",
       "      <td>4</td>\n",
       "      <td>0.14</td>\n",
       "      <td>0.14</td>\n",
       "      <td>0.78</td>\n",
       "      <td>0.4</td>\n",
       "      <td>-11</td>\n",
       "      <td>-9</td>\n",
       "      <td>-0.003</td>\n",
       "      <td>-0.2</td>\n",
       "      <td>...</td>\n",
       "      <td>0.0</td>\n",
       "      <td>0.0</td>\n",
       "      <td>0.0</td>\n",
       "      <td>0.0</td>\n",
       "      <td>0.0</td>\n",
       "      <td>0.000</td>\n",
       "      <td>0.0</td>\n",
       "      <td>1.0</td>\n",
       "      <td>0.034</td>\n",
       "      <td>-0.0012</td>\n",
       "    </tr>\n",
       "    <tr>\n",
       "      <th>3</th>\n",
       "      <td>-113</td>\n",
       "      <td>5</td>\n",
       "      <td>-0.12</td>\n",
       "      <td>0.11</td>\n",
       "      <td>1.06</td>\n",
       "      <td>0.6</td>\n",
       "      <td>-10</td>\n",
       "      <td>-7</td>\n",
       "      <td>-0.008</td>\n",
       "      <td>0.0</td>\n",
       "      <td>...</td>\n",
       "      <td>0.0</td>\n",
       "      <td>0.0</td>\n",
       "      <td>0.0</td>\n",
       "      <td>0.0</td>\n",
       "      <td>0.0</td>\n",
       "      <td>0.000</td>\n",
       "      <td>0.0</td>\n",
       "      <td>0.9</td>\n",
       "      <td>0.033</td>\n",
       "      <td>-0.0011</td>\n",
       "    </tr>\n",
       "    <tr>\n",
       "      <th>4</th>\n",
       "      <td>-411</td>\n",
       "      <td>-21</td>\n",
       "      <td>-0.17</td>\n",
       "      <td>0.07</td>\n",
       "      <td>1.33</td>\n",
       "      <td>-0.6</td>\n",
       "      <td>-11</td>\n",
       "      <td>0</td>\n",
       "      <td>0.002</td>\n",
       "      <td>0.1</td>\n",
       "      <td>...</td>\n",
       "      <td>0.0</td>\n",
       "      <td>0.0</td>\n",
       "      <td>0.0</td>\n",
       "      <td>0.0</td>\n",
       "      <td>0.0</td>\n",
       "      <td>-0.002</td>\n",
       "      <td>0.0</td>\n",
       "      <td>0.9</td>\n",
       "      <td>0.032</td>\n",
       "      <td>-0.0008</td>\n",
       "    </tr>\n",
       "  </tbody>\n",
       "</table>\n",
       "<p>5 rows × 41 columns</p>\n",
       "</div>"
      ],
      "text/plain": [
       "   climbRate  Sgz     p     q  curPitch  curRoll  absRoll  diffClb  \\\n",
       "0          2  -56 -0.33 -0.09      0.90      0.2      -11       12   \n",
       "1        470  -39  0.02  0.12      0.39     -0.6      -12        8   \n",
       "2        165    4  0.14  0.14      0.78      0.4      -11       -9   \n",
       "3       -113    5 -0.12  0.11      1.06      0.6      -10       -7   \n",
       "4       -411  -21 -0.17  0.07      1.33     -0.6      -11        0   \n",
       "\n",
       "   diffRollRate  diffDiffClb  ...  diffSeTime8  diffSeTime9  diffSeTime10  \\\n",
       "0         0.004         -0.1  ...          0.0          0.0           0.0   \n",
       "1         0.009         -1.6  ...          0.0          0.0           0.0   \n",
       "2        -0.003         -0.2  ...          0.0          0.0           0.0   \n",
       "3        -0.008          0.0  ...          0.0          0.0           0.0   \n",
       "4         0.002          0.1  ...          0.0          0.0           0.0   \n",
       "\n",
       "   diffSeTime11  diffSeTime12  diffSeTime13  diffSeTime14  alpha     Se  \\\n",
       "0           0.0           0.0         0.000           0.0    0.9  0.032   \n",
       "1           0.0           0.0         0.000           0.0    0.9  0.034   \n",
       "2           0.0           0.0         0.000           0.0    1.0  0.034   \n",
       "3           0.0           0.0         0.000           0.0    0.9  0.033   \n",
       "4           0.0           0.0        -0.002           0.0    0.9  0.032   \n",
       "\n",
       "     goal  \n",
       "0 -0.0009  \n",
       "1 -0.0011  \n",
       "2 -0.0012  \n",
       "3 -0.0011  \n",
       "4 -0.0008  \n",
       "\n",
       "[5 rows x 41 columns]"
      ]
     },
     "execution_count": 4,
     "metadata": {},
     "output_type": "execute_result"
    }
   ],
   "source": [
    "df.head()"
   ]
  },
  {
   "cell_type": "code",
   "execution_count": 5,
   "id": "d591762e",
   "metadata": {},
   "outputs": [
    {
     "data": {
      "text/plain": [
       "(12250, 41)"
      ]
     },
     "execution_count": 5,
     "metadata": {},
     "output_type": "execute_result"
    }
   ],
   "source": [
    "df.shape"
   ]
  },
  {
   "cell_type": "code",
   "execution_count": 6,
   "id": "3621ba89",
   "metadata": {},
   "outputs": [
    {
     "data": {
      "text/html": [
       "<div>\n",
       "<style scoped>\n",
       "    .dataframe tbody tr th:only-of-type {\n",
       "        vertical-align: middle;\n",
       "    }\n",
       "\n",
       "    .dataframe tbody tr th {\n",
       "        vertical-align: top;\n",
       "    }\n",
       "\n",
       "    .dataframe thead th {\n",
       "        text-align: right;\n",
       "    }\n",
       "</style>\n",
       "<table border=\"1\" class=\"dataframe\">\n",
       "  <thead>\n",
       "    <tr style=\"text-align: right;\">\n",
       "      <th></th>\n",
       "      <th>climbRate</th>\n",
       "      <th>Sgz</th>\n",
       "      <th>p</th>\n",
       "      <th>q</th>\n",
       "      <th>curPitch</th>\n",
       "      <th>curRoll</th>\n",
       "      <th>absRoll</th>\n",
       "      <th>diffClb</th>\n",
       "      <th>diffRollRate</th>\n",
       "      <th>diffDiffClb</th>\n",
       "      <th>...</th>\n",
       "      <th>diffSeTime8</th>\n",
       "      <th>diffSeTime9</th>\n",
       "      <th>diffSeTime10</th>\n",
       "      <th>diffSeTime11</th>\n",
       "      <th>diffSeTime12</th>\n",
       "      <th>diffSeTime13</th>\n",
       "      <th>diffSeTime14</th>\n",
       "      <th>alpha</th>\n",
       "      <th>Se</th>\n",
       "      <th>goal</th>\n",
       "    </tr>\n",
       "  </thead>\n",
       "  <tbody>\n",
       "    <tr>\n",
       "      <th>count</th>\n",
       "      <td>12250.000000</td>\n",
       "      <td>12250.000000</td>\n",
       "      <td>12250.000000</td>\n",
       "      <td>12250.000000</td>\n",
       "      <td>12250.000000</td>\n",
       "      <td>12250.000000</td>\n",
       "      <td>12250.000000</td>\n",
       "      <td>12250.000000</td>\n",
       "      <td>12250.000000</td>\n",
       "      <td>12250.000000</td>\n",
       "      <td>...</td>\n",
       "      <td>12250.000000</td>\n",
       "      <td>12250.000000</td>\n",
       "      <td>1.225000e+04</td>\n",
       "      <td>12250.000000</td>\n",
       "      <td>1.225000e+04</td>\n",
       "      <td>12250.000000</td>\n",
       "      <td>1.225000e+04</td>\n",
       "      <td>12250.000000</td>\n",
       "      <td>12250.000000</td>\n",
       "      <td>12250.000000</td>\n",
       "    </tr>\n",
       "    <tr>\n",
       "      <th>mean</th>\n",
       "      <td>-9.362939</td>\n",
       "      <td>-12.632408</td>\n",
       "      <td>0.006878</td>\n",
       "      <td>0.061144</td>\n",
       "      <td>0.626213</td>\n",
       "      <td>0.067045</td>\n",
       "      <td>-11.068816</td>\n",
       "      <td>-0.919592</td>\n",
       "      <td>-0.000970</td>\n",
       "      <td>-0.053698</td>\n",
       "      <td>...</td>\n",
       "      <td>0.000000</td>\n",
       "      <td>-0.000103</td>\n",
       "      <td>-5.714286e-07</td>\n",
       "      <td>-0.000100</td>\n",
       "      <td>-6.530612e-07</td>\n",
       "      <td>-0.000096</td>\n",
       "      <td>-3.265306e-07</td>\n",
       "      <td>0.622106</td>\n",
       "      <td>0.021949</td>\n",
       "      <td>-0.000871</td>\n",
       "    </tr>\n",
       "    <tr>\n",
       "      <th>std</th>\n",
       "      <td>259.502687</td>\n",
       "      <td>25.727234</td>\n",
       "      <td>0.305488</td>\n",
       "      <td>0.118447</td>\n",
       "      <td>0.312061</td>\n",
       "      <td>0.969050</td>\n",
       "      <td>4.094653</td>\n",
       "      <td>10.405533</td>\n",
       "      <td>0.013352</td>\n",
       "      <td>1.121631</td>\n",
       "      <td>...</td>\n",
       "      <td>0.000013</td>\n",
       "      <td>0.000621</td>\n",
       "      <td>8.806480e-05</td>\n",
       "      <td>0.000644</td>\n",
       "      <td>5.569441e-05</td>\n",
       "      <td>0.000617</td>\n",
       "      <td>3.129801e-05</td>\n",
       "      <td>0.195486</td>\n",
       "      <td>0.006912</td>\n",
       "      <td>0.000404</td>\n",
       "    </tr>\n",
       "    <tr>\n",
       "      <th>min</th>\n",
       "      <td>-975.000000</td>\n",
       "      <td>-99.000000</td>\n",
       "      <td>-1.530000</td>\n",
       "      <td>-0.540000</td>\n",
       "      <td>-0.420000</td>\n",
       "      <td>-3.100000</td>\n",
       "      <td>-23.000000</td>\n",
       "      <td>-43.000000</td>\n",
       "      <td>-0.099000</td>\n",
       "      <td>-8.800000</td>\n",
       "      <td>...</td>\n",
       "      <td>-0.001000</td>\n",
       "      <td>-0.006000</td>\n",
       "      <td>-6.000000e-03</td>\n",
       "      <td>-0.006000</td>\n",
       "      <td>-4.000000e-03</td>\n",
       "      <td>-0.006000</td>\n",
       "      <td>-3.000000e-03</td>\n",
       "      <td>0.400000</td>\n",
       "      <td>0.012000</td>\n",
       "      <td>-0.003600</td>\n",
       "    </tr>\n",
       "    <tr>\n",
       "      <th>25%</th>\n",
       "      <td>-176.000000</td>\n",
       "      <td>-29.000000</td>\n",
       "      <td>-0.220000</td>\n",
       "      <td>-0.020000</td>\n",
       "      <td>0.420000</td>\n",
       "      <td>-0.600000</td>\n",
       "      <td>-14.000000</td>\n",
       "      <td>-8.000000</td>\n",
       "      <td>-0.009000</td>\n",
       "      <td>-0.300000</td>\n",
       "      <td>...</td>\n",
       "      <td>0.000000</td>\n",
       "      <td>0.000000</td>\n",
       "      <td>0.000000e+00</td>\n",
       "      <td>0.000000</td>\n",
       "      <td>0.000000e+00</td>\n",
       "      <td>0.000000</td>\n",
       "      <td>0.000000e+00</td>\n",
       "      <td>0.500000</td>\n",
       "      <td>0.018000</td>\n",
       "      <td>-0.001100</td>\n",
       "    </tr>\n",
       "    <tr>\n",
       "      <th>50%</th>\n",
       "      <td>-20.000000</td>\n",
       "      <td>-13.000000</td>\n",
       "      <td>0.020000</td>\n",
       "      <td>0.060000</td>\n",
       "      <td>0.610000</td>\n",
       "      <td>0.200000</td>\n",
       "      <td>-11.000000</td>\n",
       "      <td>-1.000000</td>\n",
       "      <td>-0.001000</td>\n",
       "      <td>-0.100000</td>\n",
       "      <td>...</td>\n",
       "      <td>0.000000</td>\n",
       "      <td>0.000000</td>\n",
       "      <td>0.000000e+00</td>\n",
       "      <td>0.000000</td>\n",
       "      <td>0.000000e+00</td>\n",
       "      <td>0.000000</td>\n",
       "      <td>0.000000e+00</td>\n",
       "      <td>0.600000</td>\n",
       "      <td>0.020000</td>\n",
       "      <td>-0.000800</td>\n",
       "    </tr>\n",
       "    <tr>\n",
       "      <th>75%</th>\n",
       "      <td>159.000000</td>\n",
       "      <td>3.000000</td>\n",
       "      <td>0.230000</td>\n",
       "      <td>0.130000</td>\n",
       "      <td>0.800000</td>\n",
       "      <td>0.700000</td>\n",
       "      <td>-8.000000</td>\n",
       "      <td>6.000000</td>\n",
       "      <td>0.008000</td>\n",
       "      <td>0.200000</td>\n",
       "      <td>...</td>\n",
       "      <td>0.000000</td>\n",
       "      <td>0.000000</td>\n",
       "      <td>0.000000e+00</td>\n",
       "      <td>0.000000</td>\n",
       "      <td>0.000000e+00</td>\n",
       "      <td>0.000000</td>\n",
       "      <td>0.000000e+00</td>\n",
       "      <td>0.700000</td>\n",
       "      <td>0.023000</td>\n",
       "      <td>-0.000600</td>\n",
       "    </tr>\n",
       "    <tr>\n",
       "      <th>max</th>\n",
       "      <td>977.000000</td>\n",
       "      <td>94.000000</td>\n",
       "      <td>1.060000</td>\n",
       "      <td>0.620000</td>\n",
       "      <td>2.580000</td>\n",
       "      <td>2.900000</td>\n",
       "      <td>-3.000000</td>\n",
       "      <td>46.000000</td>\n",
       "      <td>0.056000</td>\n",
       "      <td>11.200000</td>\n",
       "      <td>...</td>\n",
       "      <td>0.001000</td>\n",
       "      <td>0.003000</td>\n",
       "      <td>6.000000e-03</td>\n",
       "      <td>0.005000</td>\n",
       "      <td>2.000000e-03</td>\n",
       "      <td>0.007000</td>\n",
       "      <td>1.000000e-03</td>\n",
       "      <td>2.000000</td>\n",
       "      <td>0.073000</td>\n",
       "      <td>-0.000200</td>\n",
       "    </tr>\n",
       "  </tbody>\n",
       "</table>\n",
       "<p>8 rows × 41 columns</p>\n",
       "</div>"
      ],
      "text/plain": [
       "          climbRate           Sgz             p             q      curPitch  \\\n",
       "count  12250.000000  12250.000000  12250.000000  12250.000000  12250.000000   \n",
       "mean      -9.362939    -12.632408      0.006878      0.061144      0.626213   \n",
       "std      259.502687     25.727234      0.305488      0.118447      0.312061   \n",
       "min     -975.000000    -99.000000     -1.530000     -0.540000     -0.420000   \n",
       "25%     -176.000000    -29.000000     -0.220000     -0.020000      0.420000   \n",
       "50%      -20.000000    -13.000000      0.020000      0.060000      0.610000   \n",
       "75%      159.000000      3.000000      0.230000      0.130000      0.800000   \n",
       "max      977.000000     94.000000      1.060000      0.620000      2.580000   \n",
       "\n",
       "            curRoll       absRoll       diffClb  diffRollRate   diffDiffClb  \\\n",
       "count  12250.000000  12250.000000  12250.000000  12250.000000  12250.000000   \n",
       "mean       0.067045    -11.068816     -0.919592     -0.000970     -0.053698   \n",
       "std        0.969050      4.094653     10.405533      0.013352      1.121631   \n",
       "min       -3.100000    -23.000000    -43.000000     -0.099000     -8.800000   \n",
       "25%       -0.600000    -14.000000     -8.000000     -0.009000     -0.300000   \n",
       "50%        0.200000    -11.000000     -1.000000     -0.001000     -0.100000   \n",
       "75%        0.700000     -8.000000      6.000000      0.008000      0.200000   \n",
       "max        2.900000     -3.000000     46.000000      0.056000     11.200000   \n",
       "\n",
       "       ...   diffSeTime8   diffSeTime9  diffSeTime10  diffSeTime11  \\\n",
       "count  ...  12250.000000  12250.000000  1.225000e+04  12250.000000   \n",
       "mean   ...      0.000000     -0.000103 -5.714286e-07     -0.000100   \n",
       "std    ...      0.000013      0.000621  8.806480e-05      0.000644   \n",
       "min    ...     -0.001000     -0.006000 -6.000000e-03     -0.006000   \n",
       "25%    ...      0.000000      0.000000  0.000000e+00      0.000000   \n",
       "50%    ...      0.000000      0.000000  0.000000e+00      0.000000   \n",
       "75%    ...      0.000000      0.000000  0.000000e+00      0.000000   \n",
       "max    ...      0.001000      0.003000  6.000000e-03      0.005000   \n",
       "\n",
       "       diffSeTime12  diffSeTime13  diffSeTime14         alpha            Se  \\\n",
       "count  1.225000e+04  12250.000000  1.225000e+04  12250.000000  12250.000000   \n",
       "mean  -6.530612e-07     -0.000096 -3.265306e-07      0.622106      0.021949   \n",
       "std    5.569441e-05      0.000617  3.129801e-05      0.195486      0.006912   \n",
       "min   -4.000000e-03     -0.006000 -3.000000e-03      0.400000      0.012000   \n",
       "25%    0.000000e+00      0.000000  0.000000e+00      0.500000      0.018000   \n",
       "50%    0.000000e+00      0.000000  0.000000e+00      0.600000      0.020000   \n",
       "75%    0.000000e+00      0.000000  0.000000e+00      0.700000      0.023000   \n",
       "max    2.000000e-03      0.007000  1.000000e-03      2.000000      0.073000   \n",
       "\n",
       "               goal  \n",
       "count  12250.000000  \n",
       "mean      -0.000871  \n",
       "std        0.000404  \n",
       "min       -0.003600  \n",
       "25%       -0.001100  \n",
       "50%       -0.000800  \n",
       "75%       -0.000600  \n",
       "max       -0.000200  \n",
       "\n",
       "[8 rows x 41 columns]"
      ]
     },
     "execution_count": 6,
     "metadata": {},
     "output_type": "execute_result"
    }
   ],
   "source": [
    "df.describe()"
   ]
  },
  {
   "cell_type": "code",
   "execution_count": 7,
   "id": "5fbc5911",
   "metadata": {},
   "outputs": [],
   "source": [
    "def checkna(columns):\n",
    "    for i in columns:\n",
    "        print(i,\" \",((df[i].isna().sum()/len(df[i]))*100))"
   ]
  },
  {
   "cell_type": "code",
   "execution_count": 8,
   "id": "19b033eb",
   "metadata": {},
   "outputs": [
    {
     "name": "stdout",
     "output_type": "stream",
     "text": [
      "climbRate   0.0\n",
      "Sgz   0.0\n",
      "p   0.0\n",
      "q   0.0\n",
      "curPitch   0.0\n",
      "curRoll   0.0\n",
      "absRoll   0.0\n",
      "diffClb   0.0\n",
      "diffRollRate   0.0\n",
      "diffDiffClb   0.0\n",
      "SeTime1   0.0\n",
      "SeTime2   0.0\n",
      "SeTime3   0.0\n",
      "SeTime4   0.0\n",
      "SeTime5   0.0\n",
      "SeTime6   0.0\n",
      "SeTime7   0.0\n",
      "SeTime8   0.0\n",
      "SeTime9   0.0\n",
      "SeTime10   0.0\n",
      "SeTime11   0.0\n",
      "SeTime12   0.0\n",
      "SeTime13   0.0\n",
      "SeTime14   0.0\n",
      "diffSeTime1   0.0\n",
      "diffSeTime2   0.0\n",
      "diffSeTime3   0.0\n",
      "diffSeTime4   0.0\n",
      "diffSeTime5   0.0\n",
      "diffSeTime6   0.0\n",
      "diffSeTime7   0.0\n",
      "diffSeTime8   0.0\n",
      "diffSeTime9   0.0\n",
      "diffSeTime10   0.0\n",
      "diffSeTime11   0.0\n",
      "diffSeTime12   0.0\n",
      "diffSeTime13   0.0\n",
      "diffSeTime14   0.0\n",
      "alpha   0.0\n",
      "Se   0.0\n",
      "goal   0.0\n"
     ]
    }
   ],
   "source": [
    "checkna(df.columns)"
   ]
  },
  {
   "cell_type": "code",
   "execution_count": 17,
   "id": "0fc9c272",
   "metadata": {},
   "outputs": [
    {
     "data": {
      "text/plain": [
       "12250"
      ]
     },
     "execution_count": 17,
     "metadata": {},
     "output_type": "execute_result"
    }
   ],
   "source": [
    "len(df)"
   ]
  },
  {
   "cell_type": "code",
   "execution_count": 9,
   "id": "c35fb2fc",
   "metadata": {},
   "outputs": [],
   "source": [
    "def outlierdetect(columns):\n",
    "    n=len(df)\n",
    "    for i in columns:\n",
    "        print(\"Column is : \",i)\n",
    "        IQR = (np.percentile(df[i], 75)) - (np.percentile(df[i], 25))\n",
    "        whisker_val = (np.percentile(df[i], 75)) + (1.5*(IQR))\n",
    "        print((df.loc[df[i]>whisker_val].shape[0]/n)*100)\n",
    "        print(\"================\")"
   ]
  },
  {
   "cell_type": "code",
   "execution_count": 10,
   "id": "cd5d52c8",
   "metadata": {},
   "outputs": [
    {
     "name": "stdout",
     "output_type": "stream",
     "text": [
      "Column is :  climbRate\n",
      "0.6612244897959183\n",
      "================\n",
      "Column is :  Sgz\n",
      "1.2244897959183674\n",
      "================\n",
      "Column is :  p\n",
      "0.04897959183673469\n",
      "================\n",
      "Column is :  q\n",
      "1.1346938775510205\n",
      "================\n",
      "Column is :  curPitch\n",
      "2.057142857142857\n",
      "================\n",
      "Column is :  curRoll\n",
      "0.24489795918367346\n",
      "================\n",
      "Column is :  absRoll\n",
      "0.0\n",
      "================\n",
      "Column is :  diffClb\n",
      "0.40816326530612246\n",
      "================\n",
      "Column is :  diffRollRate\n",
      "0.5551020408163265\n",
      "================\n",
      "Column is :  diffDiffClb\n",
      "9.208163265306123\n",
      "================\n",
      "Column is :  SeTime1\n",
      "9.689795918367347\n",
      "================\n",
      "Column is :  SeTime2\n",
      "9.689795918367347\n",
      "================\n",
      "Column is :  SeTime3\n",
      "9.689795918367347\n",
      "================\n",
      "Column is :  SeTime4\n",
      "9.738775510204082\n",
      "================\n",
      "Column is :  SeTime5\n",
      "9.738775510204082\n",
      "================\n",
      "Column is :  SeTime6\n",
      "9.812244897959184\n",
      "================\n",
      "Column is :  SeTime7\n",
      "9.820408163265308\n",
      "================\n",
      "Column is :  SeTime8\n",
      "9.910204081632653\n",
      "================\n",
      "Column is :  SeTime9\n",
      "9.910204081632653\n",
      "================\n",
      "Column is :  SeTime10\n",
      "9.942857142857143\n",
      "================\n",
      "Column is :  SeTime11\n",
      "9.942857142857143\n",
      "================\n",
      "Column is :  SeTime12\n",
      "9.926530612244898\n",
      "================\n",
      "Column is :  SeTime13\n",
      "9.934693877551021\n",
      "================\n",
      "Column is :  SeTime14\n",
      "9.975510204081631\n",
      "================\n",
      "Column is :  diffSeTime1\n",
      "6.09795918367347\n",
      "================\n",
      "Column is :  diffSeTime2\n",
      "0.00816326530612245\n",
      "================\n",
      "Column is :  diffSeTime3\n",
      "2.2448979591836733\n",
      "================\n",
      "Column is :  diffSeTime4\n",
      "0.00816326530612245\n",
      "================\n",
      "Column is :  diffSeTime5\n",
      "2.2857142857142856\n",
      "================\n",
      "Column is :  diffSeTime6\n",
      "0.0\n",
      "================\n",
      "Column is :  diffSeTime7\n",
      "3.0530612244897957\n",
      "================\n",
      "Column is :  diffSeTime8\n",
      "0.00816326530612245\n",
      "================\n",
      "Column is :  diffSeTime9\n",
      "3.869387755102041\n",
      "================\n",
      "Column is :  diffSeTime10\n",
      "0.0163265306122449\n",
      "================\n",
      "Column is :  diffSeTime11\n",
      "4.457142857142857\n",
      "================\n",
      "Column is :  diffSeTime12\n",
      "0.00816326530612245\n",
      "================\n",
      "Column is :  diffSeTime13\n",
      "4.122448979591837\n",
      "================\n",
      "Column is :  diffSeTime14\n",
      "0.00816326530612245\n",
      "================\n",
      "Column is :  alpha\n",
      "6.857142857142858\n",
      "================\n",
      "Column is :  Se\n",
      "9.975510204081631\n",
      "================\n",
      "Column is :  goal\n",
      "0.0\n",
      "================\n"
     ]
    }
   ],
   "source": [
    "outlierdetect(df.columns)"
   ]
  },
  {
   "cell_type": "code",
   "execution_count": 20,
   "id": "bfe47860",
   "metadata": {},
   "outputs": [
    {
     "name": "stdout",
     "output_type": "stream",
     "text": [
      "Outliers from Z-scores method:  [35, 76, 19, 75, 124, 9, 0, 59, 84, 333, 293, 300, 300, 303, 303, 302, 302, 304, 304, 303, 304, 313, 313, 314, 259, 2, 410, 4, 436, 4, 602, 2, 739, 7, 292, 5, 717, 4, 259, 314, 192]\n"
     ]
    }
   ],
   "source": [
    "import numpy as np\n",
    "outliers = []\n",
    "def detect_outliers_zscore(data):\n",
    "    tmp=[]\n",
    "    thres = 3\n",
    "    mean = np.mean(data)\n",
    "    std = np.std(data)\n",
    "    # print(mean, std)\n",
    "    for i in data:\n",
    "        z_score = (i-mean)/std\n",
    "        if (np.abs(z_score) > thres):\n",
    "            tmp.append(i)\n",
    "    outliers.append(len(tmp))\n",
    "    return outliers# Driver code\n",
    "for i in df.columns:\n",
    "    sample_outliers = detect_outliers_zscore(df[i])\n",
    "print(\"Outliers from Z-scores method: \", sample_outliers)"
   ]
  },
  {
   "cell_type": "code",
   "execution_count": 24,
   "id": "10ffac8f",
   "metadata": {
    "scrolled": true
   },
   "outputs": [
    {
     "data": {
      "text/plain": [
       "Index(['climbRate', 'Sgz', 'p', 'q', 'curPitch', 'curRoll', 'absRoll',\n",
       "       'diffClb', 'diffRollRate', 'diffDiffClb', 'SeTime1', 'SeTime2',\n",
       "       'SeTime3', 'SeTime4', 'SeTime5', 'SeTime6', 'SeTime7', 'SeTime8',\n",
       "       'SeTime9', 'SeTime10', 'SeTime11', 'SeTime12', 'SeTime13', 'SeTime14',\n",
       "       'diffSeTime1', 'diffSeTime2', 'diffSeTime3', 'diffSeTime4',\n",
       "       'diffSeTime5', 'diffSeTime6', 'diffSeTime7', 'diffSeTime8',\n",
       "       'diffSeTime9', 'diffSeTime10', 'diffSeTime11', 'diffSeTime12',\n",
       "       'diffSeTime13', 'diffSeTime14', 'alpha', 'Se', 'goal'],\n",
       "      dtype='object')"
      ]
     },
     "execution_count": 24,
     "metadata": {},
     "output_type": "execute_result"
    }
   ],
   "source": [
    "df.columns"
   ]
  },
  {
   "cell_type": "code",
   "execution_count": 17,
   "id": "0ba71a19",
   "metadata": {},
   "outputs": [
    {
     "name": "stdout",
     "output_type": "stream",
     "text": [
      "[-20.]\n",
      "[-13.  51.]\n",
      "[0.02]\n",
      "[0.06]\n",
      "[0.61 1.37]\n",
      "[0.2]\n",
      "[-11.]\n",
      "[-1. 27.]\n",
      "[-0.001]\n",
      "[-0.1]\n"
     ]
    }
   ],
   "source": [
    "for i in ['climbRate', 'Sgz', 'p', 'q', 'curPitch', 'curRoll', 'absRoll',\n",
    "       'diffClb', 'diffRollRate', 'diffDiffClb']:\n",
    "    print(df[i].unique())"
   ]
  },
  {
   "cell_type": "code",
   "execution_count": 16,
   "id": "7ffc20e6",
   "metadata": {},
   "outputs": [
    {
     "data": {
      "text/plain": [
       "array([0.6])"
      ]
     },
     "execution_count": 16,
     "metadata": {},
     "output_type": "execute_result"
    }
   ],
   "source": [
    "df['alpha'].unique()"
   ]
  },
  {
   "cell_type": "code",
   "execution_count": 15,
   "id": "32d852f8",
   "metadata": {},
   "outputs": [
    {
     "data": {
      "text/plain": [
       "array([0.02])"
      ]
     },
     "execution_count": 15,
     "metadata": {},
     "output_type": "execute_result"
    }
   ],
   "source": [
    "df['Se'].unique()"
   ]
  },
  {
   "cell_type": "code",
   "execution_count": 27,
   "id": "c2ac22f9",
   "metadata": {
    "scrolled": true
   },
   "outputs": [
    {
     "data": {
      "image/png": "[encoded data removed]",
      "text/plain": [
       "<Figure size 432x288 with 1 Axes>"
      ]
     },
     "metadata": {
      "needs_background": "light"
     },
     "output_type": "display_data"
    }
   ],
   "source": [
    "ax = sns.boxplot(data=df['climbRate'], orient=\"h\", palette=\"Set2\")"
   ]
  },
  {
   "cell_type": "code",
   "execution_count": 33,
   "id": "6c86c947",
   "metadata": {},
   "outputs": [
    {
     "data": {
      "image/png": "[encoded data removed]",
      "text/plain": [
       "<Figure size 432x288 with 1 Axes>"
      ]
     },
     "metadata": {
      "needs_background": "light"
     },
     "output_type": "display_data"
    }
   ],
   "source": [
    "ax = sns.boxplot(data=df['climbRate'], orient=\"h\", palette=\"Set2\")"
   ]
  },
  {
   "cell_type": "code",
   "execution_count": 3,
   "id": "b183cc4f",
   "metadata": {},
   "outputs": [],
   "source": [
    "def treatingoutliers(columns):\n",
    "    n=len(df)\n",
    "    for i in columns:\n",
    "        print(\"processing column : \",i)\n",
    "        IQR = (np.percentile(df[i], 75)) - (np.percentile(df[i], 25))\n",
    "        whisker_val = (np.percentile(df[i], 75)) + (1.5*(IQR))\n",
    "        df[i] = df[i].apply(lambda x: np.median(df[i]) if (x > whisker_val or x< whisker_val) else x)"
   ]
  },
  {
   "cell_type": "code",
   "execution_count": 12,
   "id": "851ed388",
   "metadata": {},
   "outputs": [
    {
     "name": "stdout",
     "output_type": "stream",
     "text": [
      "[0.02]\n",
      "[0.02]\n",
      "[0.02]\n",
      "[0.02]\n",
      "[0.02]\n",
      "[0.02]\n",
      "[0.02]\n",
      "[0.02]\n",
      "[0.02]\n",
      "[0.02]\n",
      "[0.02]\n",
      "[0.02]\n",
      "[0.02]\n",
      "[0.02]\n"
     ]
    }
   ],
   "source": [
    "for i in ['SeTime1', 'SeTime2',\n",
    "       'SeTime3', 'SeTime4', 'SeTime5', 'SeTime6', 'SeTime7', 'SeTime8',\n",
    "       'SeTime9', 'SeTime10', 'SeTime11', 'SeTime12', 'SeTime13', 'SeTime14']:\n",
    "    print(df[i].unique())"
   ]
  },
  {
   "cell_type": "code",
   "execution_count": 11,
   "id": "3c8abe69",
   "metadata": {},
   "outputs": [
    {
     "name": "stdout",
     "output_type": "stream",
     "text": [
      "[0.]\n",
      "[0.]\n",
      "[0.]\n",
      "[0.]\n",
      "[0.]\n",
      "[0.]\n",
      "[0.]\n",
      "[0.]\n",
      "[0.]\n",
      "[0.]\n",
      "[0.]\n",
      "[0.]\n",
      "[0.]\n",
      "[0.]\n"
     ]
    }
   ],
   "source": [
    "for i in ['diffSeTime1', 'diffSeTime2', 'diffSeTime3', 'diffSeTime4',\n",
    "       'diffSeTime5', 'diffSeTime6', 'diffSeTime7', 'diffSeTime8',\n",
    "       'diffSeTime9', 'diffSeTime10', 'diffSeTime11', 'diffSeTime12',\n",
    "       'diffSeTime13', 'diffSeTime14']:\n",
    "    print(df[i].unique())"
   ]
  },
  {
   "cell_type": "code",
   "execution_count": 4,
   "id": "4a241a13",
   "metadata": {
    "scrolled": true
   },
   "outputs": [
    {
     "name": "stdout",
     "output_type": "stream",
     "text": [
      "processing column :  climbRate\n",
      "processing column :  Sgz\n",
      "processing column :  p\n",
      "processing column :  q\n",
      "processing column :  curPitch\n",
      "processing column :  curRoll\n",
      "processing column :  absRoll\n",
      "processing column :  diffClb\n",
      "processing column :  diffRollRate\n",
      "processing column :  diffDiffClb\n",
      "processing column :  SeTime1\n",
      "processing column :  SeTime2\n",
      "processing column :  SeTime3\n",
      "processing column :  SeTime4\n",
      "processing column :  SeTime5\n",
      "processing column :  SeTime6\n",
      "processing column :  SeTime7\n",
      "processing column :  SeTime8\n",
      "processing column :  SeTime9\n",
      "processing column :  SeTime10\n",
      "processing column :  SeTime11\n",
      "processing column :  SeTime12\n",
      "processing column :  SeTime13\n",
      "processing column :  SeTime14\n",
      "processing column :  diffSeTime1\n",
      "processing column :  diffSeTime2\n",
      "processing column :  diffSeTime3\n",
      "processing column :  diffSeTime4\n",
      "processing column :  diffSeTime5\n",
      "processing column :  diffSeTime6\n",
      "processing column :  diffSeTime7\n",
      "processing column :  diffSeTime8\n",
      "processing column :  diffSeTime9\n",
      "processing column :  diffSeTime10\n",
      "processing column :  diffSeTime11\n",
      "processing column :  diffSeTime12\n",
      "processing column :  diffSeTime13\n",
      "processing column :  diffSeTime14\n",
      "processing column :  alpha\n",
      "processing column :  Se\n",
      "processing column :  goal\n"
     ]
    }
   ],
   "source": [
    "treatingoutliers(df.columns)"
   ]
  },
  {
   "cell_type": "code",
   "execution_count": 36,
   "id": "e2a291f8",
   "metadata": {},
   "outputs": [
    {
     "name": "stdout",
     "output_type": "stream",
     "text": [
      "Column is :  climbRate\n",
      "0.0\n",
      "================\n",
      "Column is :  Sgz\n",
      "0.0\n",
      "================\n",
      "Column is :  p\n",
      "0.0\n",
      "================\n",
      "Column is :  q\n",
      "0.0\n",
      "================\n",
      "Column is :  curPitch\n",
      "0.08979591836734693\n",
      "================\n",
      "Column is :  curRoll\n",
      "0.0\n",
      "================\n",
      "Column is :  absRoll\n",
      "0.0\n",
      "================\n",
      "Column is :  diffClb\n",
      "0.18775510204081633\n",
      "================\n",
      "Column is :  diffRollRate\n",
      "0.0\n",
      "================\n",
      "Column is :  diffDiffClb\n",
      "0.0\n",
      "================\n",
      "Column is :  SeTime1\n",
      "0.0\n",
      "================\n",
      "Column is :  SeTime2\n",
      "0.0\n",
      "================\n",
      "Column is :  SeTime3\n",
      "0.0\n",
      "================\n",
      "Column is :  SeTime4\n",
      "0.0\n",
      "================\n",
      "Column is :  SeTime5\n",
      "0.0\n",
      "================\n",
      "Column is :  SeTime6\n",
      "0.0\n",
      "================\n",
      "Column is :  SeTime7\n",
      "0.0\n",
      "================\n",
      "Column is :  SeTime8\n",
      "0.0\n",
      "================\n",
      "Column is :  SeTime9\n",
      "0.0\n",
      "================\n",
      "Column is :  SeTime10\n",
      "0.0\n",
      "================\n",
      "Column is :  SeTime11\n",
      "0.0\n",
      "================\n",
      "Column is :  SeTime12\n",
      "0.0\n",
      "================\n",
      "Column is :  SeTime13\n",
      "0.0\n",
      "================\n",
      "Column is :  SeTime14\n",
      "0.0\n",
      "================\n",
      "Column is :  diffSeTime1\n",
      "0.0\n",
      "================\n",
      "Column is :  diffSeTime2\n",
      "0.0\n",
      "================\n",
      "Column is :  diffSeTime3\n",
      "0.0\n",
      "================\n",
      "Column is :  diffSeTime4\n",
      "0.0\n",
      "================\n",
      "Column is :  diffSeTime5\n",
      "0.0\n",
      "================\n",
      "Column is :  diffSeTime6\n",
      "0.0\n",
      "================\n",
      "Column is :  diffSeTime7\n",
      "0.0\n",
      "================\n",
      "Column is :  diffSeTime8\n",
      "0.0\n",
      "================\n",
      "Column is :  diffSeTime9\n",
      "0.0\n",
      "================\n",
      "Column is :  diffSeTime10\n",
      "0.0\n",
      "================\n",
      "Column is :  diffSeTime11\n",
      "0.0\n",
      "================\n",
      "Column is :  diffSeTime12\n",
      "0.0\n",
      "================\n",
      "Column is :  diffSeTime13\n",
      "0.0\n",
      "================\n",
      "Column is :  diffSeTime14\n",
      "0.0\n",
      "================\n",
      "Column is :  alpha\n",
      "0.0\n",
      "================\n",
      "Column is :  Se\n",
      "0.0\n",
      "================\n",
      "Column is :  goal\n",
      "0.0\n",
      "================\n"
     ]
    }
   ],
   "source": [
    "outlierdetect(df.columns)"
   ]
  },
  {
   "cell_type": "code",
   "execution_count": 13,
   "id": "6a389744",
   "metadata": {},
   "outputs": [
    {
     "data": {
      "text/plain": [
       "<AxesSubplot:>"
      ]
     },
     "execution_count": 13,
     "metadata": {},
     "output_type": "execute_result"
    },
    {
     "data": {
      "image/png": "[encoded data removed]",
      "text/plain": [
       "<Figure size 432x288 with 2 Axes>"
      ]
     },
     "metadata": {
      "needs_background": "light"
     },
     "output_type": "display_data"
    }
   ],
   "source": [
    "sns.heatmap(df.corr())"
   ]
  },
  {
   "cell_type": "code",
   "execution_count": 39,
   "id": "424ac83a",
   "metadata": {},
   "outputs": [
    {
     "data": {
      "text/plain": [
       "9187.5"
      ]
     },
     "execution_count": 39,
     "metadata": {},
     "output_type": "execute_result"
    }
   ],
   "source": [
    "len(df)*0.75"
   ]
  },
  {
   "cell_type": "code",
   "execution_count": 19,
   "id": "77ceb18a",
   "metadata": {},
   "outputs": [],
   "source": [
    "df=df[['climbRate', 'Sgz', 'p', 'q', 'curPitch', 'curRoll', 'absRoll',\n",
    "       'diffClb', 'diffRollRate', 'diffDiffClb', 'SeTime1',\n",
    "        'alpha', 'Se', 'goal']]"
   ]
  },
  {
   "cell_type": "code",
   "execution_count": 23,
   "id": "7c31bee9",
   "metadata": {},
   "outputs": [],
   "source": [
    "train_data=df[:9187]\n",
    "valid_data=df[9187:]"
   ]
  },
  {
   "cell_type": "code",
   "execution_count": 37,
   "id": "d2c1028b",
   "metadata": {},
   "outputs": [],
   "source": [
    "train_data=feature_matrix[:9187]\n",
    "valid_data=feature_matrix[9187:]"
   ]
  },
  {
   "cell_type": "code",
   "execution_count": 21,
   "id": "74f3d041",
   "metadata": {},
   "outputs": [
    {
     "name": "stdout",
     "output_type": "stream",
     "text": [
      "         feature       VIF\n",
      "0      climbRate  0.000000\n",
      "1            Sgz  1.000003\n",
      "2              p  0.000000\n",
      "3              q  0.013749\n",
      "4       curPitch  1.000003\n",
      "5        curRoll  0.000397\n",
      "6        absRoll  0.000000\n",
      "7        diffClb  1.000004\n",
      "8   diffRollRate  0.007976\n",
      "9    diffDiffClb  0.000501\n",
      "10       SeTime1  0.000000\n",
      "11         alpha  0.017347\n",
      "12            Se  0.000000\n"
     ]
    }
   ],
   "source": [
    "from statsmodels.stats.outliers_influence import variance_inflation_factor\n",
    "  \n",
    "# the independent variables set\n",
    "X = df.drop(['goal'],axis=1)\n",
    "\n",
    "# VIF dataframe\n",
    "vif_data = pd.DataFrame()\n",
    "vif_data[\"feature\"] = X.columns\n",
    "  \n",
    "# calculating VIF for each feature\n",
    "vif_data[\"VIF\"] = [variance_inflation_factor(X.values, i)\n",
    "                          for i in range(len(X.columns))]\n",
    "  \n",
    "print(vif_data)"
   ]
  },
  {
   "cell_type": "code",
   "execution_count": 22,
   "id": "2104707e",
   "metadata": {},
   "outputs": [],
   "source": [
    "from sklearn.linear_model import LinearRegression"
   ]
  },
  {
   "cell_type": "code",
   "execution_count": 24,
   "id": "e98adfd2",
   "metadata": {},
   "outputs": [],
   "source": [
    "# separating features and target variable\n",
    "x_train = train_data.drop(['goal'],axis=1)\n",
    "y_train = train_data['goal']\n",
    "\n",
    "x_valid = valid_data.drop(['goal'],axis=1)\n",
    "y_valid = valid_data['goal']"
   ]
  },
  {
   "cell_type": "code",
   "execution_count": 25,
   "id": "542619a1",
   "metadata": {},
   "outputs": [],
   "source": [
    "def rmsle(actual, preds):\n",
    "    for i in range(0,len(preds)):\n",
    "        if preds[i]<0:\n",
    "            preds[i] = 0\n",
    "        else:\n",
    "            pass\n",
    "    \n",
    "    error = (sqrt(mean_squared_error(actual, preds)))*100\n",
    "    return error"
   ]
  },
  {
   "cell_type": "code",
   "execution_count": 26,
   "id": "7cb12b96",
   "metadata": {},
   "outputs": [],
   "source": [
    "from math import sqrt\n",
    "from sklearn.metrics import mean_squared_error"
   ]
  },
  {
   "cell_type": "code",
   "execution_count": 27,
   "id": "5d638704",
   "metadata": {},
   "outputs": [
    {
     "name": "stdout",
     "output_type": "stream",
     "text": [
      "RMSLE for Linear Regression is 0.07999999999999999\n"
     ]
    }
   ],
   "source": [
    "model = LinearRegression(normalize=True)\n",
    "model.fit(x_train, y_train)\n",
    "preds = model.predict(x_valid)\n",
    "\n",
    "# results\n",
    "score = rmsle(y_valid, preds)\n",
    "\n",
    "print('RMSLE for Linear Regression is', score)"
   ]
  },
  {
   "cell_type": "code",
   "execution_count": 28,
   "id": "63a6ab81",
   "metadata": {
    "scrolled": true
   },
   "outputs": [
    {
     "data": {
      "text/html": [
       "<div>\n",
       "<style scoped>\n",
       "    .dataframe tbody tr th:only-of-type {\n",
       "        vertical-align: middle;\n",
       "    }\n",
       "\n",
       "    .dataframe tbody tr th {\n",
       "        vertical-align: top;\n",
       "    }\n",
       "\n",
       "    .dataframe thead th {\n",
       "        text-align: right;\n",
       "    }\n",
       "</style>\n",
       "<table border=\"1\" class=\"dataframe\">\n",
       "  <thead>\n",
       "    <tr style=\"text-align: right;\">\n",
       "      <th></th>\n",
       "      <th>Feature</th>\n",
       "      <th>coeff</th>\n",
       "    </tr>\n",
       "  </thead>\n",
       "  <tbody>\n",
       "    <tr>\n",
       "      <th>0</th>\n",
       "      <td>climbRate</td>\n",
       "      <td>0.000000e+00</td>\n",
       "    </tr>\n",
       "    <tr>\n",
       "      <th>1</th>\n",
       "      <td>Sgz</td>\n",
       "      <td>-3.881544e-35</td>\n",
       "    </tr>\n",
       "    <tr>\n",
       "      <th>2</th>\n",
       "      <td>p</td>\n",
       "      <td>3.911211e-21</td>\n",
       "    </tr>\n",
       "    <tr>\n",
       "      <th>3</th>\n",
       "      <td>q</td>\n",
       "      <td>-5.009518e-02</td>\n",
       "    </tr>\n",
       "    <tr>\n",
       "      <th>4</th>\n",
       "      <td>curPitch</td>\n",
       "      <td>3.559529e-33</td>\n",
       "    </tr>\n",
       "    <tr>\n",
       "      <th>5</th>\n",
       "      <td>curRoll</td>\n",
       "      <td>1.057067e-02</td>\n",
       "    </tr>\n",
       "    <tr>\n",
       "      <th>6</th>\n",
       "      <td>absRoll</td>\n",
       "      <td>0.000000e+00</td>\n",
       "    </tr>\n",
       "    <tr>\n",
       "      <th>7</th>\n",
       "      <td>diffClb</td>\n",
       "      <td>-1.399544e-34</td>\n",
       "    </tr>\n",
       "    <tr>\n",
       "      <th>8</th>\n",
       "      <td>diffRollRate</td>\n",
       "      <td>-6.765229e-01</td>\n",
       "    </tr>\n",
       "    <tr>\n",
       "      <th>9</th>\n",
       "      <td>diffDiffClb</td>\n",
       "      <td>-2.114134e-02</td>\n",
       "    </tr>\n",
       "    <tr>\n",
       "      <th>10</th>\n",
       "      <td>SeTime1</td>\n",
       "      <td>0.000000e+00</td>\n",
       "    </tr>\n",
       "    <tr>\n",
       "      <th>11</th>\n",
       "      <td>alpha</td>\n",
       "      <td>-2.642667e-03</td>\n",
       "    </tr>\n",
       "    <tr>\n",
       "      <th>12</th>\n",
       "      <td>Se</td>\n",
       "      <td>0.000000e+00</td>\n",
       "    </tr>\n",
       "  </tbody>\n",
       "</table>\n",
       "</div>"
      ],
      "text/plain": [
       "         Feature         coeff\n",
       "0      climbRate  0.000000e+00\n",
       "1            Sgz -3.881544e-35\n",
       "2              p  3.911211e-21\n",
       "3              q -5.009518e-02\n",
       "4       curPitch  3.559529e-33\n",
       "5        curRoll  1.057067e-02\n",
       "6        absRoll  0.000000e+00\n",
       "7        diffClb -1.399544e-34\n",
       "8   diffRollRate -6.765229e-01\n",
       "9    diffDiffClb -2.114134e-02\n",
       "10       SeTime1  0.000000e+00\n",
       "11         alpha -2.642667e-03\n",
       "12            Se  0.000000e+00"
      ]
     },
     "execution_count": 28,
     "metadata": {},
     "output_type": "execute_result"
    }
   ],
   "source": [
    "feature_coeff = pd.DataFrame(zip(x_train.columns, model.coef_), columns=['Feature', 'coeff'])\n",
    "feature_coeff"
   ]
  },
  {
   "cell_type": "code",
   "execution_count": 29,
   "id": "1df2c248",
   "metadata": {
    "scrolled": true
   },
   "outputs": [
    {
     "data": {
      "text/plain": [
       "<BarContainer object of 13 artists>"
      ]
     },
     "execution_count": 29,
     "metadata": {},
     "output_type": "execute_result"
    },
    {
     "data": {
      "image/png": "[encoded data removed]",
      "text/plain": [
       "<Figure size 432x288 with 1 Axes>"
      ]
     },
     "metadata": {
      "needs_background": "light"
     },
     "output_type": "display_data"
    }
   ],
   "source": [
    "plt.bar(feature_coeff['Feature'], feature_coeff['coeff'])"
   ]
  },
  {
   "cell_type": "code",
   "execution_count": 1,
   "id": "f402c848",
   "metadata": {},
   "outputs": [],
   "source": [
    "import featuretools as ft"
   ]
  },
  {
   "cell_type": "code",
   "execution_count": 24,
   "id": "263df48d",
   "metadata": {},
   "outputs": [],
   "source": [
    "features=df.drop('goal',axis=1)\n",
    "y=df.goal"
   ]
  },
  {
   "cell_type": "code",
   "execution_count": 25,
   "id": "42eb3c95",
   "metadata": {},
   "outputs": [
    {
     "data": {
      "text/plain": [
       "Entityset: air\n",
       "  DataFrames:\n",
       "  Relationships:\n",
       "    No relationships"
      ]
     },
     "execution_count": 25,
     "metadata": {},
     "output_type": "execute_result"
    }
   ],
   "source": [
    "es = ft.EntitySet(id = 'air')\n",
    "es"
   ]
  },
  {
   "cell_type": "code",
   "execution_count": 30,
   "id": "90aa83a3",
   "metadata": {},
   "outputs": [],
   "source": [
    "es = es.add_dataframe(\n",
    "    dataframe_name=\"features\",\n",
    "    dataframe=features,\n",
    "    make_index=True,\n",
    "    index='index'\n",
    ")"
   ]
  },
  {
   "cell_type": "code",
   "execution_count": 27,
   "id": "4c529b5d",
   "metadata": {
    "scrolled": true
   },
   "outputs": [
    {
     "data": {
      "text/plain": [
       "['__class__',\n",
       " '__dask_tokenize__',\n",
       " '__deepcopy__',\n",
       " '__delattr__',\n",
       " '__dict__',\n",
       " '__dir__',\n",
       " '__doc__',\n",
       " '__eq__',\n",
       " '__format__',\n",
       " '__ge__',\n",
       " '__getattribute__',\n",
       " '__getitem__',\n",
       " '__getstate__',\n",
       " '__gt__',\n",
       " '__hash__',\n",
       " '__init__',\n",
       " '__init_subclass__',\n",
       " '__le__',\n",
       " '__lt__',\n",
       " '__module__',\n",
       " '__ne__',\n",
       " '__new__',\n",
       " '__reduce__',\n",
       " '__reduce_ex__',\n",
       " '__repr__',\n",
       " '__setattr__',\n",
       " '__setstate__',\n",
       " '__sizeof__',\n",
       " '__str__',\n",
       " '__subclasshook__',\n",
       " '__weakref__',\n",
       " '_add_references_to_metadata',\n",
       " '_check_secondary_time_index',\n",
       " '_check_time_indexes',\n",
       " '_check_uniform_time_index',\n",
       " '_data_description',\n",
       " '_forward_dataframe_paths',\n",
       " '_get_time_type',\n",
       " '_handle_time',\n",
       " '_set_secondary_time_index',\n",
       " 'add_dataframe',\n",
       " 'add_interesting_values',\n",
       " 'add_last_time_indexes',\n",
       " 'add_relationship',\n",
       " 'add_relationships',\n",
       " 'concat',\n",
       " 'dataframe_dict',\n",
       " 'dataframe_type',\n",
       " 'dataframes',\n",
       " 'find_backward_paths',\n",
       " 'find_forward_paths',\n",
       " 'get_backward_dataframes',\n",
       " 'get_backward_relationships',\n",
       " 'get_forward_dataframes',\n",
       " 'get_forward_relationships',\n",
       " 'has_unique_forward_path',\n",
       " 'id',\n",
       " 'metadata',\n",
       " 'normalize_dataframe',\n",
       " 'plot',\n",
       " 'query_by_values',\n",
       " 'relationships',\n",
       " 'replace_dataframe',\n",
       " 'reset_data_description',\n",
       " 'set_secondary_time_index',\n",
       " 'time_type',\n",
       " 'to_csv',\n",
       " 'to_dictionary',\n",
       " 'to_parquet',\n",
       " 'to_pickle']"
      ]
     },
     "execution_count": 27,
     "metadata": {},
     "output_type": "execute_result"
    }
   ],
   "source": [
    "dir(es)"
   ]
  },
  {
   "cell_type": "code",
   "execution_count": 35,
   "id": "411bd038",
   "metadata": {},
   "outputs": [
    {
     "data": {
      "text/html": [
       "<div>\n",
       "<style scoped>\n",
       "    .dataframe tbody tr th:only-of-type {\n",
       "        vertical-align: middle;\n",
       "    }\n",
       "\n",
       "    .dataframe tbody tr th {\n",
       "        vertical-align: top;\n",
       "    }\n",
       "\n",
       "    .dataframe thead th {\n",
       "        text-align: right;\n",
       "    }\n",
       "</style>\n",
       "<table border=\"1\" class=\"dataframe\">\n",
       "  <thead>\n",
       "    <tr style=\"text-align: right;\">\n",
       "      <th></th>\n",
       "      <th>climbRate</th>\n",
       "      <th>Sgz</th>\n",
       "      <th>p</th>\n",
       "      <th>q</th>\n",
       "      <th>curPitch</th>\n",
       "      <th>curRoll</th>\n",
       "      <th>absRoll</th>\n",
       "      <th>diffClb</th>\n",
       "      <th>diffRollRate</th>\n",
       "      <th>diffDiffClb</th>\n",
       "      <th>...</th>\n",
       "      <th>q * SeTime14</th>\n",
       "      <th>q * SeTime2</th>\n",
       "      <th>q * SeTime3</th>\n",
       "      <th>q * SeTime4</th>\n",
       "      <th>q * SeTime5</th>\n",
       "      <th>q * SeTime6</th>\n",
       "      <th>q * SeTime7</th>\n",
       "      <th>q * SeTime8</th>\n",
       "      <th>q * SeTime9</th>\n",
       "      <th>q * Sgz</th>\n",
       "    </tr>\n",
       "    <tr>\n",
       "      <th>index</th>\n",
       "      <th></th>\n",
       "      <th></th>\n",
       "      <th></th>\n",
       "      <th></th>\n",
       "      <th></th>\n",
       "      <th></th>\n",
       "      <th></th>\n",
       "      <th></th>\n",
       "      <th></th>\n",
       "      <th></th>\n",
       "      <th></th>\n",
       "      <th></th>\n",
       "      <th></th>\n",
       "      <th></th>\n",
       "      <th></th>\n",
       "      <th></th>\n",
       "      <th></th>\n",
       "      <th></th>\n",
       "      <th></th>\n",
       "      <th></th>\n",
       "      <th></th>\n",
       "    </tr>\n",
       "  </thead>\n",
       "  <tbody>\n",
       "    <tr>\n",
       "      <th>0</th>\n",
       "      <td>-20.0</td>\n",
       "      <td>-13.0</td>\n",
       "      <td>0.02</td>\n",
       "      <td>0.06</td>\n",
       "      <td>0.61</td>\n",
       "      <td>0.2</td>\n",
       "      <td>-11.0</td>\n",
       "      <td>-1.0</td>\n",
       "      <td>-0.001</td>\n",
       "      <td>-0.1</td>\n",
       "      <td>...</td>\n",
       "      <td>0.0012</td>\n",
       "      <td>0.0012</td>\n",
       "      <td>0.0012</td>\n",
       "      <td>0.0012</td>\n",
       "      <td>0.0012</td>\n",
       "      <td>0.0012</td>\n",
       "      <td>0.0012</td>\n",
       "      <td>0.0012</td>\n",
       "      <td>0.0012</td>\n",
       "      <td>-0.78</td>\n",
       "    </tr>\n",
       "    <tr>\n",
       "      <th>1</th>\n",
       "      <td>-20.0</td>\n",
       "      <td>-13.0</td>\n",
       "      <td>0.02</td>\n",
       "      <td>0.06</td>\n",
       "      <td>0.61</td>\n",
       "      <td>0.2</td>\n",
       "      <td>-11.0</td>\n",
       "      <td>-1.0</td>\n",
       "      <td>-0.001</td>\n",
       "      <td>-0.1</td>\n",
       "      <td>...</td>\n",
       "      <td>0.0012</td>\n",
       "      <td>0.0012</td>\n",
       "      <td>0.0012</td>\n",
       "      <td>0.0012</td>\n",
       "      <td>0.0012</td>\n",
       "      <td>0.0012</td>\n",
       "      <td>0.0012</td>\n",
       "      <td>0.0012</td>\n",
       "      <td>0.0012</td>\n",
       "      <td>-0.78</td>\n",
       "    </tr>\n",
       "    <tr>\n",
       "      <th>2</th>\n",
       "      <td>-20.0</td>\n",
       "      <td>-13.0</td>\n",
       "      <td>0.02</td>\n",
       "      <td>0.06</td>\n",
       "      <td>0.61</td>\n",
       "      <td>0.2</td>\n",
       "      <td>-11.0</td>\n",
       "      <td>-1.0</td>\n",
       "      <td>-0.001</td>\n",
       "      <td>-0.1</td>\n",
       "      <td>...</td>\n",
       "      <td>0.0012</td>\n",
       "      <td>0.0012</td>\n",
       "      <td>0.0012</td>\n",
       "      <td>0.0012</td>\n",
       "      <td>0.0012</td>\n",
       "      <td>0.0012</td>\n",
       "      <td>0.0012</td>\n",
       "      <td>0.0012</td>\n",
       "      <td>0.0012</td>\n",
       "      <td>-0.78</td>\n",
       "    </tr>\n",
       "    <tr>\n",
       "      <th>3</th>\n",
       "      <td>-20.0</td>\n",
       "      <td>-13.0</td>\n",
       "      <td>0.02</td>\n",
       "      <td>0.06</td>\n",
       "      <td>0.61</td>\n",
       "      <td>0.2</td>\n",
       "      <td>-11.0</td>\n",
       "      <td>-1.0</td>\n",
       "      <td>-0.001</td>\n",
       "      <td>-0.1</td>\n",
       "      <td>...</td>\n",
       "      <td>0.0012</td>\n",
       "      <td>0.0012</td>\n",
       "      <td>0.0012</td>\n",
       "      <td>0.0012</td>\n",
       "      <td>0.0012</td>\n",
       "      <td>0.0012</td>\n",
       "      <td>0.0012</td>\n",
       "      <td>0.0012</td>\n",
       "      <td>0.0012</td>\n",
       "      <td>-0.78</td>\n",
       "    </tr>\n",
       "    <tr>\n",
       "      <th>4</th>\n",
       "      <td>-20.0</td>\n",
       "      <td>-13.0</td>\n",
       "      <td>0.02</td>\n",
       "      <td>0.06</td>\n",
       "      <td>0.61</td>\n",
       "      <td>0.2</td>\n",
       "      <td>-11.0</td>\n",
       "      <td>-1.0</td>\n",
       "      <td>-0.001</td>\n",
       "      <td>-0.1</td>\n",
       "      <td>...</td>\n",
       "      <td>0.0012</td>\n",
       "      <td>0.0012</td>\n",
       "      <td>0.0012</td>\n",
       "      <td>0.0012</td>\n",
       "      <td>0.0012</td>\n",
       "      <td>0.0012</td>\n",
       "      <td>0.0012</td>\n",
       "      <td>0.0012</td>\n",
       "      <td>0.0012</td>\n",
       "      <td>-0.78</td>\n",
       "    </tr>\n",
       "  </tbody>\n",
       "</table>\n",
       "<p>5 rows × 1600 columns</p>\n",
       "</div>"
      ],
      "text/plain": [
       "       climbRate   Sgz     p     q  curPitch  curRoll  absRoll  diffClb  \\\n",
       "index                                                                     \n",
       "0          -20.0 -13.0  0.02  0.06      0.61      0.2    -11.0     -1.0   \n",
       "1          -20.0 -13.0  0.02  0.06      0.61      0.2    -11.0     -1.0   \n",
       "2          -20.0 -13.0  0.02  0.06      0.61      0.2    -11.0     -1.0   \n",
       "3          -20.0 -13.0  0.02  0.06      0.61      0.2    -11.0     -1.0   \n",
       "4          -20.0 -13.0  0.02  0.06      0.61      0.2    -11.0     -1.0   \n",
       "\n",
       "       diffRollRate  diffDiffClb  ...  q * SeTime14  q * SeTime2  q * SeTime3  \\\n",
       "index                             ...                                           \n",
       "0            -0.001         -0.1  ...        0.0012       0.0012       0.0012   \n",
       "1            -0.001         -0.1  ...        0.0012       0.0012       0.0012   \n",
       "2            -0.001         -0.1  ...        0.0012       0.0012       0.0012   \n",
       "3            -0.001         -0.1  ...        0.0012       0.0012       0.0012   \n",
       "4            -0.001         -0.1  ...        0.0012       0.0012       0.0012   \n",
       "\n",
       "       q * SeTime4  q * SeTime5  q * SeTime6  q * SeTime7  q * SeTime8  \\\n",
       "index                                                                    \n",
       "0           0.0012       0.0012       0.0012       0.0012       0.0012   \n",
       "1           0.0012       0.0012       0.0012       0.0012       0.0012   \n",
       "2           0.0012       0.0012       0.0012       0.0012       0.0012   \n",
       "3           0.0012       0.0012       0.0012       0.0012       0.0012   \n",
       "4           0.0012       0.0012       0.0012       0.0012       0.0012   \n",
       "\n",
       "       q * SeTime9  q * Sgz  \n",
       "index                        \n",
       "0           0.0012    -0.78  \n",
       "1           0.0012    -0.78  \n",
       "2           0.0012    -0.78  \n",
       "3           0.0012    -0.78  \n",
       "4           0.0012    -0.78  \n",
       "\n",
       "[5 rows x 1600 columns]"
      ]
     },
     "execution_count": 35,
     "metadata": {},
     "output_type": "execute_result"
    }
   ],
   "source": [
    "feature_matrix, feature_defs = ft.dfs(entityset = es, max_depth=1,target_dataframe_name=\"features\",\n",
    "                                      trans_primitives = ['add_numeric', 'multiply_numeric'])\n",
    "\n",
    "feature_matrix.head()"
   ]
  },
  {
   "cell_type": "code",
   "execution_count": 36,
   "id": "2c21f95c",
   "metadata": {},
   "outputs": [
    {
     "data": {
      "text/plain": [
       "(12250, 1600)"
      ]
     },
     "execution_count": 36,
     "metadata": {},
     "output_type": "execute_result"
    }
   ],
   "source": [
    "feature_matrix.shape"
   ]
  },
  {
   "cell_type": "markdown",
   "id": "77e3b20c",
   "metadata": {},
   "source": [
    "#### feature engineering didnt really help"
   ]
  },
  {
   "cell_type": "code",
   "execution_count": 30,
   "id": "cfc817c1",
   "metadata": {},
   "outputs": [],
   "source": [
    "x=df.drop('goal',axis=1)\n",
    "y=df['goal']"
   ]
  },
  {
   "cell_type": "code",
   "execution_count": 31,
   "id": "ca6de446",
   "metadata": {},
   "outputs": [],
   "source": [
    "from sklearn.model_selection import train_test_split\n",
    "train_x,valid_x,train_y,valid_y = train_test_split(x,y, random_state = 101, stratify=y)"
   ]
  },
  {
   "cell_type": "code",
   "execution_count": 32,
   "id": "342ee204",
   "metadata": {},
   "outputs": [
    {
     "data": {
      "text/plain": [
       "-3.0"
      ]
     },
     "execution_count": 32,
     "metadata": {},
     "output_type": "execute_result"
    }
   ],
   "source": [
    "from sklearn.linear_model import LinearRegression\n",
    "from sklearn.neighbors import KNeighborsRegressor\n",
    "from sklearn.tree import DecisionTreeRegressor\n",
    "\n",
    "model1 = LinearRegression()\n",
    "model1.fit(train_x,train_y)\n",
    "pred1=model1.predict(valid_x)\n",
    "model1.score(valid_x, valid_y)"
   ]
  },
  {
   "cell_type": "code",
   "execution_count": 33,
   "id": "b60b7d7f",
   "metadata": {},
   "outputs": [
    {
     "data": {
      "text/plain": [
       "-461943.1224289912"
      ]
     },
     "execution_count": 33,
     "metadata": {},
     "output_type": "execute_result"
    }
   ],
   "source": [
    "model3 = DecisionTreeRegressor(max_depth=41)\n",
    "model3.fit(train_x,train_y)\n",
    "pred3=model3.predict(valid_x)\n",
    "model3.score(valid_x, valid_y)"
   ]
  },
  {
   "cell_type": "code",
   "execution_count": 34,
   "id": "020e1376",
   "metadata": {},
   "outputs": [],
   "source": [
    "from sklearn.metrics import r2_score"
   ]
  },
  {
   "cell_type": "code",
   "execution_count": 35,
   "id": "6ada2b4a",
   "metadata": {},
   "outputs": [
    {
     "data": {
      "text/plain": [
       "-461943.1224289912"
      ]
     },
     "execution_count": 35,
     "metadata": {},
     "output_type": "execute_result"
    }
   ],
   "source": [
    "r2_score(valid_y,pred3)"
   ]
  },
  {
   "cell_type": "code",
   "execution_count": 36,
   "id": "7e0301ab",
   "metadata": {},
   "outputs": [
    {
     "data": {
      "image/png": "[encoded data removed]",
      "text/plain": [
       "<Figure size 432x288 with 1 Axes>"
      ]
     },
     "metadata": {
      "needs_background": "light"
     },
     "output_type": "display_data"
    }
   ],
   "source": [
    "#df['climbRate'] = np.log(df['clim'].values + 1)\n",
    "sns.distplot(df['climbRate'], kde =True, bins = 200)\n",
    "plt.show()"
   ]
  },
  {
   "cell_type": "code",
   "execution_count": 37,
   "id": "bf4a4d79",
   "metadata": {},
   "outputs": [
    {
     "data": {
      "text/plain": [
       "RandomForestRegressor(random_state=0)"
      ]
     },
     "execution_count": 37,
     "metadata": {},
     "output_type": "execute_result"
    }
   ],
   "source": [
    "from sklearn.ensemble import RandomForestRegressor\n",
    " \n",
    " # create regressor object\n",
    "regressor = RandomForestRegressor(n_estimators = 100, random_state = 0)\n",
    " \n",
    "# fit the regressor with x and y data\n",
    "regressor.fit(train_x, train_y)"
   ]
  },
  {
   "cell_type": "code",
   "execution_count": 38,
   "id": "6e8f1819",
   "metadata": {},
   "outputs": [],
   "source": [
    "Y_pred = regressor.predict(valid_x) "
   ]
  },
  {
   "cell_type": "code",
   "execution_count": 40,
   "id": "62557721",
   "metadata": {},
   "outputs": [
    {
     "data": {
      "text/plain": [
       "0.07999999999999999"
      ]
     },
     "execution_count": 40,
     "metadata": {},
     "output_type": "execute_result"
    }
   ],
   "source": [
    "rmsle(valid_y,Y_pred)"
   ]
  },
  {
   "cell_type": "code",
   "execution_count": null,
   "id": "715676e5",
   "metadata": {},
   "outputs": [],
   "source": []
  }
 ],
 "metadata": {
  "kernelspec": {
   "display_name": "Python 3",
   "language": "python",
   "name": "python3"
  },
  "language_info": {
   "codemirror_mode": {
    "name": "ipython",
    "version": 3
   },
   "file_extension": ".py",
   "mimetype": "text/x-python",
   "name": "python",
   "nbconvert_exporter": "python",
   "pygments_lexer": "ipython3",
   "version": "3.8.8"
  }
 },
 "nbformat": 4,
 "nbformat_minor": 5
}

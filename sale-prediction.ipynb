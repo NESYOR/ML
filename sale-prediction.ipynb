{
 "cells": [
  {
   "cell_type": "code",
   "execution_count": 1,
   "id": "f34b79b0",
   "metadata": {},
   "outputs": [],
   "source": [
    "#importing required libraries\n",
    "import pandas as pd\n",
    "import numpy as np \n",
    "import seaborn as sns\n",
    "import matplotlib.pyplot as plt \n",
    "%matplotlib inline\n",
    "\n",
    "from sklearn.metrics import mean_squared_log_error\n",
    "from math import sqrt\n",
    "from statistics import mean, stdev\n",
    "\n",
    "import warnings\n",
    "warnings.filterwarnings(\"ignore\")"
   ]
  },
  {
   "cell_type": "code",
   "execution_count": 3,
   "id": "05a19397",
   "metadata": {},
   "outputs": [],
   "source": [
    "data=pd.read_csv('data/Train_KQyJ5eh.csv')"
   ]
  },
  {
   "cell_type": "code",
   "execution_count": 4,
   "id": "143e461f",
   "metadata": {},
   "outputs": [
    {
     "data": {
      "text/plain": [
       "(587, 2)"
      ]
     },
     "execution_count": 4,
     "metadata": {},
     "output_type": "execute_result"
    }
   ],
   "source": [
    "data.shape"
   ]
  },
  {
   "cell_type": "code",
   "execution_count": 5,
   "id": "6805310c",
   "metadata": {},
   "outputs": [
    {
     "data": {
      "text/html": [
       "<div>\n",
       "<style scoped>\n",
       "    .dataframe tbody tr th:only-of-type {\n",
       "        vertical-align: middle;\n",
       "    }\n",
       "\n",
       "    .dataframe tbody tr th {\n",
       "        vertical-align: top;\n",
       "    }\n",
       "\n",
       "    .dataframe thead th {\n",
       "        text-align: right;\n",
       "    }\n",
       "</style>\n",
       "<table border=\"1\" class=\"dataframe\">\n",
       "  <thead>\n",
       "    <tr style=\"text-align: right;\">\n",
       "      <th></th>\n",
       "      <th>Date</th>\n",
       "      <th>Number_SKU_Sold</th>\n",
       "    </tr>\n",
       "  </thead>\n",
       "  <tbody>\n",
       "    <tr>\n",
       "      <th>0</th>\n",
       "      <td>1-Jan-07</td>\n",
       "      <td>31762</td>\n",
       "    </tr>\n",
       "    <tr>\n",
       "      <th>1</th>\n",
       "      <td>2-Jan-07</td>\n",
       "      <td>285955</td>\n",
       "    </tr>\n",
       "    <tr>\n",
       "      <th>2</th>\n",
       "      <td>3-Jan-07</td>\n",
       "      <td>740781</td>\n",
       "    </tr>\n",
       "    <tr>\n",
       "      <th>3</th>\n",
       "      <td>4-Jan-07</td>\n",
       "      <td>508796</td>\n",
       "    </tr>\n",
       "    <tr>\n",
       "      <th>4</th>\n",
       "      <td>5-Jan-07</td>\n",
       "      <td>445951</td>\n",
       "    </tr>\n",
       "  </tbody>\n",
       "</table>\n",
       "</div>"
      ],
      "text/plain": [
       "       Date  Number_SKU_Sold\n",
       "0  1-Jan-07            31762\n",
       "1  2-Jan-07           285955\n",
       "2  3-Jan-07           740781\n",
       "3  4-Jan-07           508796\n",
       "4  5-Jan-07           445951"
      ]
     },
     "execution_count": 5,
     "metadata": {},
     "output_type": "execute_result"
    }
   ],
   "source": [
    "data.head()"
   ]
  },
  {
   "cell_type": "code",
   "execution_count": 7,
   "id": "64eda5b9",
   "metadata": {},
   "outputs": [
    {
     "data": {
      "text/html": [
       "<div>\n",
       "<style scoped>\n",
       "    .dataframe tbody tr th:only-of-type {\n",
       "        vertical-align: middle;\n",
       "    }\n",
       "\n",
       "    .dataframe tbody tr th {\n",
       "        vertical-align: top;\n",
       "    }\n",
       "\n",
       "    .dataframe thead th {\n",
       "        text-align: right;\n",
       "    }\n",
       "</style>\n",
       "<table border=\"1\" class=\"dataframe\">\n",
       "  <thead>\n",
       "    <tr style=\"text-align: right;\">\n",
       "      <th></th>\n",
       "      <th>Number_SKU_Sold</th>\n",
       "    </tr>\n",
       "  </thead>\n",
       "  <tbody>\n",
       "    <tr>\n",
       "      <th>count</th>\n",
       "      <td>5.870000e+02</td>\n",
       "    </tr>\n",
       "    <tr>\n",
       "      <th>mean</th>\n",
       "      <td>4.118112e+06</td>\n",
       "    </tr>\n",
       "    <tr>\n",
       "      <th>std</th>\n",
       "      <td>1.015100e+07</td>\n",
       "    </tr>\n",
       "    <tr>\n",
       "      <th>min</th>\n",
       "      <td>3.176200e+04</td>\n",
       "    </tr>\n",
       "    <tr>\n",
       "      <th>25%</th>\n",
       "      <td>1.075948e+06</td>\n",
       "    </tr>\n",
       "    <tr>\n",
       "      <th>50%</th>\n",
       "      <td>2.784444e+06</td>\n",
       "    </tr>\n",
       "    <tr>\n",
       "      <th>75%</th>\n",
       "      <td>5.208588e+06</td>\n",
       "    </tr>\n",
       "    <tr>\n",
       "      <th>max</th>\n",
       "      <td>1.925327e+08</td>\n",
       "    </tr>\n",
       "  </tbody>\n",
       "</table>\n",
       "</div>"
      ],
      "text/plain": [
       "       Number_SKU_Sold\n",
       "count     5.870000e+02\n",
       "mean      4.118112e+06\n",
       "std       1.015100e+07\n",
       "min       3.176200e+04\n",
       "25%       1.075948e+06\n",
       "50%       2.784444e+06\n",
       "75%       5.208588e+06\n",
       "max       1.925327e+08"
      ]
     },
     "execution_count": 7,
     "metadata": {},
     "output_type": "execute_result"
    }
   ],
   "source": [
    "data.describe()"
   ]
  },
  {
   "cell_type": "code",
   "execution_count": 8,
   "id": "5600594c",
   "metadata": {},
   "outputs": [
    {
     "data": {
      "text/html": [
       "<div>\n",
       "<style scoped>\n",
       "    .dataframe tbody tr th:only-of-type {\n",
       "        vertical-align: middle;\n",
       "    }\n",
       "\n",
       "    .dataframe tbody tr th {\n",
       "        vertical-align: top;\n",
       "    }\n",
       "\n",
       "    .dataframe thead th {\n",
       "        text-align: right;\n",
       "    }\n",
       "</style>\n",
       "<table border=\"1\" class=\"dataframe\">\n",
       "  <thead>\n",
       "    <tr style=\"text-align: right;\">\n",
       "      <th></th>\n",
       "      <th>Date</th>\n",
       "      <th>Number_SKU_Sold</th>\n",
       "    </tr>\n",
       "  </thead>\n",
       "  <tbody>\n",
       "    <tr>\n",
       "      <th>582</th>\n",
       "      <td>20-Dec-08</td>\n",
       "      <td>10572461</td>\n",
       "    </tr>\n",
       "    <tr>\n",
       "      <th>583</th>\n",
       "      <td>21-Dec-08</td>\n",
       "      <td>11507413</td>\n",
       "    </tr>\n",
       "    <tr>\n",
       "      <th>584</th>\n",
       "      <td>22-Dec-08</td>\n",
       "      <td>13640882</td>\n",
       "    </tr>\n",
       "    <tr>\n",
       "      <th>585</th>\n",
       "      <td>23-Dec-08</td>\n",
       "      <td>8821786</td>\n",
       "    </tr>\n",
       "    <tr>\n",
       "      <th>586</th>\n",
       "      <td>24-Dec-08</td>\n",
       "      <td>192532706</td>\n",
       "    </tr>\n",
       "  </tbody>\n",
       "</table>\n",
       "</div>"
      ],
      "text/plain": [
       "          Date  Number_SKU_Sold\n",
       "582  20-Dec-08         10572461\n",
       "583  21-Dec-08         11507413\n",
       "584  22-Dec-08         13640882\n",
       "585  23-Dec-08          8821786\n",
       "586  24-Dec-08        192532706"
      ]
     },
     "execution_count": 8,
     "metadata": {},
     "output_type": "execute_result"
    }
   ],
   "source": [
    "data.tail()"
   ]
  },
  {
   "cell_type": "code",
   "execution_count": 9,
   "id": "b1208c6c",
   "metadata": {},
   "outputs": [],
   "source": [
    "data['Date'] = pd.to_datetime(data['Date'], format='%d-%b-%y')\n"
   ]
  },
  {
   "cell_type": "code",
   "execution_count": 12,
   "id": "ba40d114",
   "metadata": {},
   "outputs": [
    {
     "data": {
      "text/html": [
       "<div>\n",
       "<style scoped>\n",
       "    .dataframe tbody tr th:only-of-type {\n",
       "        vertical-align: middle;\n",
       "    }\n",
       "\n",
       "    .dataframe tbody tr th {\n",
       "        vertical-align: top;\n",
       "    }\n",
       "\n",
       "    .dataframe thead th {\n",
       "        text-align: right;\n",
       "    }\n",
       "</style>\n",
       "<table border=\"1\" class=\"dataframe\">\n",
       "  <thead>\n",
       "    <tr style=\"text-align: right;\">\n",
       "      <th></th>\n",
       "      <th>Date</th>\n",
       "      <th>Number_SKU_Sold</th>\n",
       "    </tr>\n",
       "    <tr>\n",
       "      <th>Date</th>\n",
       "      <th></th>\n",
       "      <th></th>\n",
       "    </tr>\n",
       "  </thead>\n",
       "  <tbody>\n",
       "    <tr>\n",
       "      <th>2007-01-01</th>\n",
       "      <td>2007-01-01</td>\n",
       "      <td>31762</td>\n",
       "    </tr>\n",
       "    <tr>\n",
       "      <th>2007-01-02</th>\n",
       "      <td>2007-01-02</td>\n",
       "      <td>285955</td>\n",
       "    </tr>\n",
       "    <tr>\n",
       "      <th>2007-01-03</th>\n",
       "      <td>2007-01-03</td>\n",
       "      <td>740781</td>\n",
       "    </tr>\n",
       "    <tr>\n",
       "      <th>2007-01-04</th>\n",
       "      <td>2007-01-04</td>\n",
       "      <td>508796</td>\n",
       "    </tr>\n",
       "    <tr>\n",
       "      <th>2007-01-05</th>\n",
       "      <td>2007-01-05</td>\n",
       "      <td>445951</td>\n",
       "    </tr>\n",
       "  </tbody>\n",
       "</table>\n",
       "</div>"
      ],
      "text/plain": [
       "                 Date  Number_SKU_Sold\n",
       "Date                                  \n",
       "2007-01-01 2007-01-01            31762\n",
       "2007-01-02 2007-01-02           285955\n",
       "2007-01-03 2007-01-03           740781\n",
       "2007-01-04 2007-01-04           508796\n",
       "2007-01-05 2007-01-05           445951"
      ]
     },
     "execution_count": 12,
     "metadata": {},
     "output_type": "execute_result"
    }
   ],
   "source": [
    "data.head()"
   ]
  },
  {
   "cell_type": "code",
   "execution_count": 11,
   "id": "76a50d79",
   "metadata": {},
   "outputs": [],
   "source": [
    "data.index = data['Date']"
   ]
  },
  {
   "cell_type": "code",
   "execution_count": 15,
   "id": "fab2e316",
   "metadata": {},
   "outputs": [
    {
     "data": {
      "image/png": "[encoded data removed]",
      "text/plain": [
       "<Figure size 1152x288 with 1 Axes>"
      ]
     },
     "metadata": {
      "needs_background": "light"
     },
     "output_type": "display_data"
    }
   ],
   "source": [
    "plt.figure(figsize=(16,4))\n",
    "plt.plot(data.index,data['Number_SKU_Sold'],label='Train')\n",
    "plt.legend(loc='best')\n",
    "plt.show()"
   ]
  },
  {
   "cell_type": "code",
   "execution_count": 16,
   "id": "926c4c50",
   "metadata": {},
   "outputs": [
    {
     "data": {
      "text/plain": [
       "count    5.870000e+02\n",
       "mean     4.118112e+06\n",
       "std      1.015100e+07\n",
       "min      3.176200e+04\n",
       "25%      1.075948e+06\n",
       "50%      2.784444e+06\n",
       "75%      5.208588e+06\n",
       "max      1.925327e+08\n",
       "Name: Number_SKU_Sold, dtype: float64"
      ]
     },
     "execution_count": 16,
     "metadata": {},
     "output_type": "execute_result"
    }
   ],
   "source": [
    "data['Number_SKU_Sold'].describe()"
   ]
  },
  {
   "cell_type": "code",
   "execution_count": 17,
   "id": "3ab3aca7",
   "metadata": {},
   "outputs": [
    {
     "name": "stdout",
     "output_type": "stream",
     "text": [
      "99th percentile:  14225472.619999975\n",
      "97th percentile:  10975127.499999993\n",
      "95th percentile:  9855528.099999992\n"
     ]
    }
   ],
   "source": [
    "print(\"99th percentile: \",(np.percentile(data['Number_SKU_Sold'],99)))\n",
    "print(\"97th percentile: \",(np.percentile(data['Number_SKU_Sold'],97)))\n",
    "print(\"95th percentile: \",(np.percentile(data['Number_SKU_Sold'],95)))"
   ]
  },
  {
   "cell_type": "code",
   "execution_count": 18,
   "id": "dba2ff8f",
   "metadata": {},
   "outputs": [
    {
     "data": {
      "text/plain": [
       "<AxesSubplot:xlabel='Number_SKU_Sold'>"
      ]
     },
     "execution_count": 18,
     "metadata": {},
     "output_type": "execute_result"
    },
    {
     "data": {
      "image/png": "[encoded data removed]",
      "text/plain": [
       "<Figure size 432x288 with 1 Axes>"
      ]
     },
     "metadata": {
      "needs_background": "light"
     },
     "output_type": "display_data"
    }
   ],
   "source": [
    "sns.boxplot(data['Number_SKU_Sold'])"
   ]
  },
  {
   "cell_type": "code",
   "execution_count": 20,
   "id": "ac0c4548",
   "metadata": {},
   "outputs": [],
   "source": [
    "IQR=(np.percentile(data['Number_SKU_Sold'],75))-(np.percentile(data['Number_SKU_Sold'],25))\n",
    "whisker_Val=(np.percentile(data['Number_SKU_Sold'],75))+(1.5*IQR)"
   ]
  },
  {
   "cell_type": "code",
   "execution_count": 22,
   "id": "c6e78394",
   "metadata": {},
   "outputs": [
    {
     "data": {
      "text/html": [
       "<div>\n",
       "<style scoped>\n",
       "    .dataframe tbody tr th:only-of-type {\n",
       "        vertical-align: middle;\n",
       "    }\n",
       "\n",
       "    .dataframe tbody tr th {\n",
       "        vertical-align: top;\n",
       "    }\n",
       "\n",
       "    .dataframe thead th {\n",
       "        text-align: right;\n",
       "    }\n",
       "</style>\n",
       "<table border=\"1\" class=\"dataframe\">\n",
       "  <thead>\n",
       "    <tr style=\"text-align: right;\">\n",
       "      <th></th>\n",
       "      <th>Date</th>\n",
       "      <th>Number_SKU_Sold</th>\n",
       "    </tr>\n",
       "    <tr>\n",
       "      <th>Date</th>\n",
       "      <th></th>\n",
       "      <th></th>\n",
       "    </tr>\n",
       "  </thead>\n",
       "  <tbody>\n",
       "    <tr>\n",
       "      <th>2007-10-27</th>\n",
       "      <td>2007-10-27</td>\n",
       "      <td>11572492</td>\n",
       "    </tr>\n",
       "    <tr>\n",
       "      <th>2007-11-24</th>\n",
       "      <td>2007-11-24</td>\n",
       "      <td>19138073</td>\n",
       "    </tr>\n",
       "    <tr>\n",
       "      <th>2007-12-22</th>\n",
       "      <td>2007-12-22</td>\n",
       "      <td>21956074</td>\n",
       "    </tr>\n",
       "    <tr>\n",
       "      <th>2007-12-23</th>\n",
       "      <td>2007-12-23</td>\n",
       "      <td>15766750</td>\n",
       "    </tr>\n",
       "    <tr>\n",
       "      <th>2007-12-25</th>\n",
       "      <td>2007-12-25</td>\n",
       "      <td>139629635</td>\n",
       "    </tr>\n",
       "    <tr>\n",
       "      <th>2008-06-24</th>\n",
       "      <td>2008-06-24</td>\n",
       "      <td>12288917</td>\n",
       "    </tr>\n",
       "    <tr>\n",
       "      <th>2008-09-25</th>\n",
       "      <td>2008-09-25</td>\n",
       "      <td>30579435</td>\n",
       "    </tr>\n",
       "    <tr>\n",
       "      <th>2008-11-15</th>\n",
       "      <td>2008-11-15</td>\n",
       "      <td>11930320</td>\n",
       "    </tr>\n",
       "    <tr>\n",
       "      <th>2008-11-20</th>\n",
       "      <td>2008-11-20</td>\n",
       "      <td>12416871</td>\n",
       "    </tr>\n",
       "    <tr>\n",
       "      <th>2008-11-22</th>\n",
       "      <td>2008-11-22</td>\n",
       "      <td>13726524</td>\n",
       "    </tr>\n",
       "    <tr>\n",
       "      <th>2008-11-23</th>\n",
       "      <td>2008-11-23</td>\n",
       "      <td>13947472</td>\n",
       "    </tr>\n",
       "    <tr>\n",
       "      <th>2008-12-10</th>\n",
       "      <td>2008-12-10</td>\n",
       "      <td>13974567</td>\n",
       "    </tr>\n",
       "    <tr>\n",
       "      <th>2008-12-19</th>\n",
       "      <td>2008-12-19</td>\n",
       "      <td>13307076</td>\n",
       "    </tr>\n",
       "    <tr>\n",
       "      <th>2008-12-21</th>\n",
       "      <td>2008-12-21</td>\n",
       "      <td>11507413</td>\n",
       "    </tr>\n",
       "    <tr>\n",
       "      <th>2008-12-22</th>\n",
       "      <td>2008-12-22</td>\n",
       "      <td>13640882</td>\n",
       "    </tr>\n",
       "    <tr>\n",
       "      <th>2008-12-24</th>\n",
       "      <td>2008-12-24</td>\n",
       "      <td>192532706</td>\n",
       "    </tr>\n",
       "  </tbody>\n",
       "</table>\n",
       "</div>"
      ],
      "text/plain": [
       "                 Date  Number_SKU_Sold\n",
       "Date                                  \n",
       "2007-10-27 2007-10-27         11572492\n",
       "2007-11-24 2007-11-24         19138073\n",
       "2007-12-22 2007-12-22         21956074\n",
       "2007-12-23 2007-12-23         15766750\n",
       "2007-12-25 2007-12-25        139629635\n",
       "2008-06-24 2008-06-24         12288917\n",
       "2008-09-25 2008-09-25         30579435\n",
       "2008-11-15 2008-11-15         11930320\n",
       "2008-11-20 2008-11-20         12416871\n",
       "2008-11-22 2008-11-22         13726524\n",
       "2008-11-23 2008-11-23         13947472\n",
       "2008-12-10 2008-12-10         13974567\n",
       "2008-12-19 2008-12-19         13307076\n",
       "2008-12-21 2008-12-21         11507413\n",
       "2008-12-22 2008-12-22         13640882\n",
       "2008-12-24 2008-12-24        192532706"
      ]
     },
     "execution_count": 22,
     "metadata": {},
     "output_type": "execute_result"
    }
   ],
   "source": [
    "data.loc[data['Number_SKU_Sold']>whisker_Val]"
   ]
  },
  {
   "cell_type": "code",
   "execution_count": 23,
   "id": "2bc39851",
   "metadata": {},
   "outputs": [],
   "source": [
    "data_original=data['Number_SKU_Sold']\n",
    "data['Number_SKU_Sold']=data['Number_SKU_Sold'].apply(lambda x:np.nan if x>whisker_Val else x)"
   ]
  },
  {
   "cell_type": "code",
   "execution_count": 24,
   "id": "bef7c309",
   "metadata": {},
   "outputs": [
    {
     "data": {
      "text/plain": [
       "16"
      ]
     },
     "execution_count": 24,
     "metadata": {},
     "output_type": "execute_result"
    }
   ],
   "source": [
    "data['Number_SKU_Sold'].isnull().sum()"
   ]
  },
  {
   "cell_type": "code",
   "execution_count": 25,
   "id": "0c1b45fe",
   "metadata": {},
   "outputs": [],
   "source": [
    "data['Number_SKU_Sold']=data['Number_SKU_Sold'].fillna(method='ffill')"
   ]
  },
  {
   "cell_type": "code",
   "execution_count": 26,
   "id": "39532a42",
   "metadata": {},
   "outputs": [
    {
     "data": {
      "image/png": "[encoded data removed]",
      "text/plain": [
       "<Figure size 432x288 with 2 Axes>"
      ]
     },
     "metadata": {
      "needs_background": "light"
     },
     "output_type": "display_data"
    }
   ],
   "source": [
    "fig,axs=plt.subplots(2,1,sharex=True)\n",
    "axs[0].plot(data_original,)\n",
    "axs[1].plot(data['Number_SKU_Sold'])\n",
    "plt.show()"
   ]
  },
  {
   "cell_type": "code",
   "execution_count": 28,
   "id": "07fee597",
   "metadata": {},
   "outputs": [
    {
     "data": {
      "text/plain": [
       "Timedelta('723 days 00:00:00')"
      ]
     },
     "execution_count": 28,
     "metadata": {},
     "output_type": "execute_result"
    }
   ],
   "source": [
    "data['Date'].max()-data['Date'].min() #data['Number_SKU_Sold']"
   ]
  },
  {
   "cell_type": "code",
   "execution_count": 29,
   "id": "afd562a5",
   "metadata": {},
   "outputs": [
    {
     "data": {
      "text/plain": [
       "DatetimeIndex(['2007-01-07', '2007-01-08', '2007-01-10', '2007-01-14',\n",
       "               '2007-01-17', '2007-01-21', '2007-01-25', '2007-01-28',\n",
       "               '2007-02-04', '2007-02-10',\n",
       "               ...\n",
       "               '2008-11-01', '2008-11-02', '2008-11-07', '2008-11-09',\n",
       "               '2008-11-14', '2008-11-16', '2008-11-24', '2008-11-30',\n",
       "               '2008-12-07', '2008-12-09'],\n",
       "              dtype='datetime64[ns]', length=137, freq=None)"
      ]
     },
     "execution_count": 29,
     "metadata": {},
     "output_type": "execute_result"
    }
   ],
   "source": [
    "pd.date_range(start='2007-01-01',end='2008-12-24').difference(data.index)"
   ]
  },
  {
   "cell_type": "code",
   "execution_count": 31,
   "id": "a6dca86b",
   "metadata": {},
   "outputs": [],
   "source": [
    "start_date = '2007-01-01'\n",
    "end_date = '2008-12-24'"
   ]
  },
  {
   "cell_type": "code",
   "execution_count": 32,
   "id": "ac355e70",
   "metadata": {
    "scrolled": true
   },
   "outputs": [],
   "source": [
    "missing_dates = pd.DataFrame(data = pd.date_range(start = start_date, end = end_date).difference(data.index), \n",
    "                             columns= ['Date'])"
   ]
  },
  {
   "cell_type": "code",
   "execution_count": 34,
   "id": "aaff6bca",
   "metadata": {},
   "outputs": [],
   "source": [
    "missing_dates['Day']=missing_dates['Date'].dt.strftime(\"%A\")\n",
    "missing_dates['Month']=missing_dates['Date'].dt.month\n",
    "missing_dates['Year']=missing_dates['Date'].dt.year"
   ]
  },
  {
   "cell_type": "code",
   "execution_count": 37,
   "id": "807dcd2a",
   "metadata": {},
   "outputs": [
    {
     "data": {
      "text/plain": [
       "Sunday       86\n",
       "Saturday     14\n",
       "Monday       10\n",
       "Friday       10\n",
       "Wednesday     6\n",
       "Thursday      6\n",
       "Tuesday       5\n",
       "Name: Day, dtype: int64"
      ]
     },
     "execution_count": 37,
     "metadata": {},
     "output_type": "execute_result"
    }
   ],
   "source": [
    "missing_dates['Day'].value_counts()"
   ]
  },
  {
   "cell_type": "code",
   "execution_count": 38,
   "id": "c505a6d1",
   "metadata": {},
   "outputs": [
    {
     "data": {
      "text/html": [
       "<div>\n",
       "<style scoped>\n",
       "    .dataframe tbody tr th:only-of-type {\n",
       "        vertical-align: middle;\n",
       "    }\n",
       "\n",
       "    .dataframe tbody tr th {\n",
       "        vertical-align: top;\n",
       "    }\n",
       "\n",
       "    .dataframe thead th {\n",
       "        text-align: right;\n",
       "    }\n",
       "</style>\n",
       "<table border=\"1\" class=\"dataframe\">\n",
       "  <thead>\n",
       "    <tr style=\"text-align: right;\">\n",
       "      <th>Day</th>\n",
       "      <th>Friday</th>\n",
       "      <th>Monday</th>\n",
       "      <th>Saturday</th>\n",
       "      <th>Sunday</th>\n",
       "      <th>Thursday</th>\n",
       "      <th>Tuesday</th>\n",
       "      <th>Wednesday</th>\n",
       "    </tr>\n",
       "    <tr>\n",
       "      <th>Year</th>\n",
       "      <th></th>\n",
       "      <th></th>\n",
       "      <th></th>\n",
       "      <th></th>\n",
       "      <th></th>\n",
       "      <th></th>\n",
       "      <th></th>\n",
       "    </tr>\n",
       "  </thead>\n",
       "  <tbody>\n",
       "    <tr>\n",
       "      <th>2007</th>\n",
       "      <td>3</td>\n",
       "      <td>4</td>\n",
       "      <td>6</td>\n",
       "      <td>43</td>\n",
       "      <td>5</td>\n",
       "      <td>1</td>\n",
       "      <td>5</td>\n",
       "    </tr>\n",
       "    <tr>\n",
       "      <th>2008</th>\n",
       "      <td>7</td>\n",
       "      <td>6</td>\n",
       "      <td>8</td>\n",
       "      <td>43</td>\n",
       "      <td>1</td>\n",
       "      <td>4</td>\n",
       "      <td>1</td>\n",
       "    </tr>\n",
       "  </tbody>\n",
       "</table>\n",
       "</div>"
      ],
      "text/plain": [
       "Day   Friday  Monday  Saturday  Sunday  Thursday  Tuesday  Wednesday\n",
       "Year                                                                \n",
       "2007       3       4         6      43         5        1          5\n",
       "2008       7       6         8      43         1        4          1"
      ]
     },
     "execution_count": 38,
     "metadata": {},
     "output_type": "execute_result"
    }
   ],
   "source": [
    "pd.crosstab(missing_dates['Year'],missing_dates['Day'])"
   ]
  },
  {
   "cell_type": "code",
   "execution_count": 39,
   "id": "6c0b4c73",
   "metadata": {},
   "outputs": [],
   "source": [
    "data_=pd.DataFrame(data['Number_SKU_Sold'])"
   ]
  },
  {
   "cell_type": "code",
   "execution_count": 40,
   "id": "af4ebe8c",
   "metadata": {},
   "outputs": [],
   "source": [
    "data_.index=pd.DatetimeIndex(data.Date)"
   ]
  },
  {
   "cell_type": "code",
   "execution_count": 44,
   "id": "92e6f2af",
   "metadata": {},
   "outputs": [],
   "source": [
    "idx=pd.date_range('2007-01-01','2008-12-24')\n",
    "data_=data_.reindex(idx,fill_value=0)"
   ]
  },
  {
   "cell_type": "code",
   "execution_count": 45,
   "id": "4ce63dbe",
   "metadata": {},
   "outputs": [
    {
     "data": {
      "text/plain": [
       "(724, 3)"
      ]
     },
     "execution_count": 45,
     "metadata": {},
     "output_type": "execute_result"
    }
   ],
   "source": [
    "# extract weekday from the dates\n",
    "data_['Date'] = data_.index\n",
    "data_['weekday_name'] = data_['Date'].dt.strftime(\"%A\")\n",
    "data_.shape"
   ]
  },
  {
   "cell_type": "code",
   "execution_count": 46,
   "id": "4e0c736c",
   "metadata": {},
   "outputs": [
    {
     "data": {
      "text/plain": [
       "(621, 3)"
      ]
     },
     "execution_count": 46,
     "metadata": {},
     "output_type": "execute_result"
    }
   ],
   "source": [
    "# remove sundays from data\n",
    "data_ = data_.loc[data_['weekday_name']!= 'Sunday']\n",
    "data_.shape"
   ]
  },
  {
   "cell_type": "code",
   "execution_count": 47,
   "id": "81a65c4f",
   "metadata": {},
   "outputs": [
    {
     "data": {
      "text/plain": [
       "Number_SKU_Sold    51\n",
       "Date                0\n",
       "weekday_name        0\n",
       "dtype: int64"
      ]
     },
     "execution_count": 47,
     "metadata": {},
     "output_type": "execute_result"
    }
   ],
   "source": [
    "data_original = data['Number_SKU_Sold']\n",
    "data_['Number_SKU_Sold'] = data_['Number_SKU_Sold'].apply(lambda x: np.nan if x == 0.0 else x)\n",
    "data_.isnull().sum()"
   ]
  },
  {
   "cell_type": "code",
   "execution_count": 48,
   "id": "32bc4437",
   "metadata": {},
   "outputs": [],
   "source": [
    "data_['Number_SKU_Sold'] = data_['Number_SKU_Sold'].fillna(method ='ffill')"
   ]
  },
  {
   "cell_type": "code",
   "execution_count": 73,
   "id": "ad470f20",
   "metadata": {},
   "outputs": [],
   "source": [
    "data_new=data_.drop(['Date','weekday_name'],axis=1)"
   ]
  },
  {
   "cell_type": "code",
   "execution_count": 75,
   "id": "384a7821",
   "metadata": {
    "scrolled": true
   },
   "outputs": [
    {
     "data": {
      "text/html": [
       "<div>\n",
       "<style scoped>\n",
       "    .dataframe tbody tr th:only-of-type {\n",
       "        vertical-align: middle;\n",
       "    }\n",
       "\n",
       "    .dataframe tbody tr th {\n",
       "        vertical-align: top;\n",
       "    }\n",
       "\n",
       "    .dataframe thead th {\n",
       "        text-align: right;\n",
       "    }\n",
       "</style>\n",
       "<table border=\"1\" class=\"dataframe\">\n",
       "  <thead>\n",
       "    <tr style=\"text-align: right;\">\n",
       "      <th></th>\n",
       "      <th>Number_SKU_Sold</th>\n",
       "    </tr>\n",
       "  </thead>\n",
       "  <tbody>\n",
       "    <tr>\n",
       "      <th>2007-01-01</th>\n",
       "      <td>31762.0</td>\n",
       "    </tr>\n",
       "    <tr>\n",
       "      <th>2007-01-02</th>\n",
       "      <td>285955.0</td>\n",
       "    </tr>\n",
       "    <tr>\n",
       "      <th>2007-01-03</th>\n",
       "      <td>740781.0</td>\n",
       "    </tr>\n",
       "    <tr>\n",
       "      <th>2007-01-04</th>\n",
       "      <td>508796.0</td>\n",
       "    </tr>\n",
       "    <tr>\n",
       "      <th>2007-01-05</th>\n",
       "      <td>445951.0</td>\n",
       "    </tr>\n",
       "    <tr>\n",
       "      <th>...</th>\n",
       "      <td>...</td>\n",
       "    </tr>\n",
       "    <tr>\n",
       "      <th>2008-12-19</th>\n",
       "      <td>9254530.0</td>\n",
       "    </tr>\n",
       "    <tr>\n",
       "      <th>2008-12-20</th>\n",
       "      <td>10572461.0</td>\n",
       "    </tr>\n",
       "    <tr>\n",
       "      <th>2008-12-22</th>\n",
       "      <td>10572461.0</td>\n",
       "    </tr>\n",
       "    <tr>\n",
       "      <th>2008-12-23</th>\n",
       "      <td>8821786.0</td>\n",
       "    </tr>\n",
       "    <tr>\n",
       "      <th>2008-12-24</th>\n",
       "      <td>8821786.0</td>\n",
       "    </tr>\n",
       "  </tbody>\n",
       "</table>\n",
       "<p>621 rows × 1 columns</p>\n",
       "</div>"
      ],
      "text/plain": [
       "            Number_SKU_Sold\n",
       "2007-01-01          31762.0\n",
       "2007-01-02         285955.0\n",
       "2007-01-03         740781.0\n",
       "2007-01-04         508796.0\n",
       "2007-01-05         445951.0\n",
       "...                     ...\n",
       "2008-12-19        9254530.0\n",
       "2008-12-20       10572461.0\n",
       "2008-12-22       10572461.0\n",
       "2008-12-23        8821786.0\n",
       "2008-12-24        8821786.0\n",
       "\n",
       "[621 rows x 1 columns]"
      ]
     },
     "execution_count": 75,
     "metadata": {},
     "output_type": "execute_result"
    }
   ],
   "source": [
    "data_new"
   ]
  },
  {
   "cell_type": "code",
   "execution_count": 76,
   "id": "a15c059b",
   "metadata": {
    "scrolled": false
   },
   "outputs": [],
   "source": [
    "#feature extraction\n",
    "from statsmodels.tsa.seasonal import seasonal_decompose\n",
    "decomposed_series=seasonal_decompose(data_['Number_SKU_Sold'],period=6)"
   ]
  },
  {
   "cell_type": "code",
   "execution_count": 52,
   "id": "e8d500ce",
   "metadata": {},
   "outputs": [
    {
     "data": {
      "image/png": "[encoded data removed]",
      "text/plain": [
       "<Figure size 432x288 with 4 Axes>"
      ]
     },
     "metadata": {
      "needs_background": "light"
     },
     "output_type": "display_data"
    }
   ],
   "source": [
    "decomposed_series.plot()\n",
    "plt.show()"
   ]
  },
  {
   "cell_type": "code",
   "execution_count": 55,
   "id": "7c28e7df",
   "metadata": {},
   "outputs": [
    {
     "data": {
      "text/plain": [
       "<AxesSubplot:>"
      ]
     },
     "execution_count": 55,
     "metadata": {},
     "output_type": "execute_result"
    },
    {
     "data": {
      "image/png": "[encoded data removed]",
      "text/plain": [
       "<Figure size 432x288 with 1 Axes>"
      ]
     },
     "metadata": {
      "needs_background": "light"
     },
     "output_type": "display_data"
    }
   ],
   "source": [
    "decomposed_series.seasonal[:26].plot()"
   ]
  },
  {
   "cell_type": "code",
   "execution_count": 56,
   "id": "6b75e1cd",
   "metadata": {},
   "outputs": [],
   "source": [
    "data_feat=pd.DataFrame({\n",
    "    \"year\": data_['Date'].dt.year,\n",
    "                          \"month\": data_['Date'].dt.month,\n",
    "                          \"day\": data_['Date'].dt.day,\n",
    "                          \"weekday\": data_['Date'].dt.dayofweek,\n",
    "                          \"weekday_name\":data_['Date'].dt.strftime(\"%A\"),\n",
    "                          \"dayofyear\": data_['Date'].dt.dayofyear,\n",
    "                          \"week\": data_['Date'].dt.week,\n",
    "                          \"quarter\": data_['Date'].dt.quarter,    \n",
    "})"
   ]
  },
  {
   "cell_type": "code",
   "execution_count": 57,
   "id": "35967e35",
   "metadata": {},
   "outputs": [
    {
     "data": {
      "text/html": [
       "<div>\n",
       "<style scoped>\n",
       "    .dataframe tbody tr th:only-of-type {\n",
       "        vertical-align: middle;\n",
       "    }\n",
       "\n",
       "    .dataframe tbody tr th {\n",
       "        vertical-align: top;\n",
       "    }\n",
       "\n",
       "    .dataframe thead th {\n",
       "        text-align: right;\n",
       "    }\n",
       "</style>\n",
       "<table border=\"1\" class=\"dataframe\">\n",
       "  <thead>\n",
       "    <tr style=\"text-align: right;\">\n",
       "      <th></th>\n",
       "      <th>year</th>\n",
       "      <th>month</th>\n",
       "      <th>day</th>\n",
       "      <th>weekday</th>\n",
       "      <th>weekday_name</th>\n",
       "      <th>dayofyear</th>\n",
       "      <th>week</th>\n",
       "      <th>quarter</th>\n",
       "      <th>Number_SKU_Sold</th>\n",
       "    </tr>\n",
       "  </thead>\n",
       "  <tbody>\n",
       "    <tr>\n",
       "      <th>2007-01-01</th>\n",
       "      <td>2007</td>\n",
       "      <td>1</td>\n",
       "      <td>1</td>\n",
       "      <td>0</td>\n",
       "      <td>Monday</td>\n",
       "      <td>1</td>\n",
       "      <td>1</td>\n",
       "      <td>1</td>\n",
       "      <td>31762.0</td>\n",
       "    </tr>\n",
       "    <tr>\n",
       "      <th>2007-01-02</th>\n",
       "      <td>2007</td>\n",
       "      <td>1</td>\n",
       "      <td>2</td>\n",
       "      <td>1</td>\n",
       "      <td>Tuesday</td>\n",
       "      <td>2</td>\n",
       "      <td>1</td>\n",
       "      <td>1</td>\n",
       "      <td>285955.0</td>\n",
       "    </tr>\n",
       "    <tr>\n",
       "      <th>2007-01-03</th>\n",
       "      <td>2007</td>\n",
       "      <td>1</td>\n",
       "      <td>3</td>\n",
       "      <td>2</td>\n",
       "      <td>Wednesday</td>\n",
       "      <td>3</td>\n",
       "      <td>1</td>\n",
       "      <td>1</td>\n",
       "      <td>740781.0</td>\n",
       "    </tr>\n",
       "    <tr>\n",
       "      <th>2007-01-04</th>\n",
       "      <td>2007</td>\n",
       "      <td>1</td>\n",
       "      <td>4</td>\n",
       "      <td>3</td>\n",
       "      <td>Thursday</td>\n",
       "      <td>4</td>\n",
       "      <td>1</td>\n",
       "      <td>1</td>\n",
       "      <td>508796.0</td>\n",
       "    </tr>\n",
       "    <tr>\n",
       "      <th>2007-01-05</th>\n",
       "      <td>2007</td>\n",
       "      <td>1</td>\n",
       "      <td>5</td>\n",
       "      <td>4</td>\n",
       "      <td>Friday</td>\n",
       "      <td>5</td>\n",
       "      <td>1</td>\n",
       "      <td>1</td>\n",
       "      <td>445951.0</td>\n",
       "    </tr>\n",
       "  </tbody>\n",
       "</table>\n",
       "</div>"
      ],
      "text/plain": [
       "            year  month  day  weekday weekday_name  dayofyear  week  quarter  \\\n",
       "2007-01-01  2007      1    1        0       Monday          1     1        1   \n",
       "2007-01-02  2007      1    2        1      Tuesday          2     1        1   \n",
       "2007-01-03  2007      1    3        2    Wednesday          3     1        1   \n",
       "2007-01-04  2007      1    4        3     Thursday          4     1        1   \n",
       "2007-01-05  2007      1    5        4       Friday          5     1        1   \n",
       "\n",
       "            Number_SKU_Sold  \n",
       "2007-01-01          31762.0  \n",
       "2007-01-02         285955.0  \n",
       "2007-01-03         740781.0  \n",
       "2007-01-04         508796.0  \n",
       "2007-01-05         445951.0  "
      ]
     },
     "execution_count": 57,
     "metadata": {},
     "output_type": "execute_result"
    }
   ],
   "source": [
    "complete_data = pd.concat([data_feat, data_['Number_SKU_Sold']], axis=1)\n",
    "complete_data.head()"
   ]
  },
  {
   "cell_type": "code",
   "execution_count": 60,
   "id": "2a14944f",
   "metadata": {},
   "outputs": [
    {
     "data": {
      "image/png": "[encoded data removed]",
      "text/plain": [
       "<Figure size 864x576 with 1 Axes>"
      ]
     },
     "metadata": {
      "needs_background": "light"
     },
     "output_type": "display_data"
    }
   ],
   "source": [
    "plt.figure(figsize=(12,8))\n",
    "sns.boxplot(x=complete_data['year'],y=complete_data.Number_SKU_Sold)\n",
    "plt.title('yearly sales')\n",
    "plt.show()"
   ]
  },
  {
   "cell_type": "code",
   "execution_count": 61,
   "id": "4383f4cf",
   "metadata": {},
   "outputs": [
    {
     "data": {
      "image/png": "[encoded data removed]",
      "text/plain": [
       "<Figure size 864x576 with 1 Axes>"
      ]
     },
     "metadata": {
      "needs_background": "light"
     },
     "output_type": "display_data"
    }
   ],
   "source": [
    "plt.figure(figsize=(12,8))\n",
    "sns.boxplot(x=complete_data['weekday_name'],y=complete_data.Number_SKU_Sold)\n",
    "plt.title('weekday sales')\n",
    "plt.show()"
   ]
  },
  {
   "cell_type": "code",
   "execution_count": 62,
   "id": "0c240a40",
   "metadata": {},
   "outputs": [
    {
     "data": {
      "image/png": "[encoded data removed]",
      "text/plain": [
       "<Figure size 864x576 with 1 Axes>"
      ]
     },
     "metadata": {
      "needs_background": "light"
     },
     "output_type": "display_data"
    }
   ],
   "source": [
    "plt.figure(figsize=(12,8))\n",
    "sns.boxplot(x=complete_data['month'],y=complete_data.Number_SKU_Sold)\n",
    "plt.title('monthly sales')\n",
    "plt.show()"
   ]
  },
  {
   "cell_type": "code",
   "execution_count": 63,
   "id": "44b623a1",
   "metadata": {},
   "outputs": [
    {
     "data": {
      "text/html": [
       "<div>\n",
       "<style scoped>\n",
       "    .dataframe tbody tr th:only-of-type {\n",
       "        vertical-align: middle;\n",
       "    }\n",
       "\n",
       "    .dataframe tbody tr th {\n",
       "        vertical-align: top;\n",
       "    }\n",
       "\n",
       "    .dataframe thead th {\n",
       "        text-align: right;\n",
       "    }\n",
       "</style>\n",
       "<table border=\"1\" class=\"dataframe\">\n",
       "  <thead>\n",
       "    <tr style=\"text-align: right;\">\n",
       "      <th></th>\n",
       "      <th>Number_SKU_Sold</th>\n",
       "      <th>Date</th>\n",
       "      <th>weekday_name</th>\n",
       "    </tr>\n",
       "  </thead>\n",
       "  <tbody>\n",
       "    <tr>\n",
       "      <th>2007-01-01</th>\n",
       "      <td>31762.0</td>\n",
       "      <td>2007-01-01</td>\n",
       "      <td>Monday</td>\n",
       "    </tr>\n",
       "    <tr>\n",
       "      <th>2007-01-02</th>\n",
       "      <td>285955.0</td>\n",
       "      <td>2007-01-02</td>\n",
       "      <td>Tuesday</td>\n",
       "    </tr>\n",
       "    <tr>\n",
       "      <th>2007-01-03</th>\n",
       "      <td>740781.0</td>\n",
       "      <td>2007-01-03</td>\n",
       "      <td>Wednesday</td>\n",
       "    </tr>\n",
       "    <tr>\n",
       "      <th>2007-01-04</th>\n",
       "      <td>508796.0</td>\n",
       "      <td>2007-01-04</td>\n",
       "      <td>Thursday</td>\n",
       "    </tr>\n",
       "    <tr>\n",
       "      <th>2007-01-05</th>\n",
       "      <td>445951.0</td>\n",
       "      <td>2007-01-05</td>\n",
       "      <td>Friday</td>\n",
       "    </tr>\n",
       "  </tbody>\n",
       "</table>\n",
       "</div>"
      ],
      "text/plain": [
       "            Number_SKU_Sold       Date weekday_name\n",
       "2007-01-01          31762.0 2007-01-01       Monday\n",
       "2007-01-02         285955.0 2007-01-02      Tuesday\n",
       "2007-01-03         740781.0 2007-01-03    Wednesday\n",
       "2007-01-04         508796.0 2007-01-04     Thursday\n",
       "2007-01-05         445951.0 2007-01-05       Friday"
      ]
     },
     "execution_count": 63,
     "metadata": {},
     "output_type": "execute_result"
    }
   ],
   "source": [
    "data_.head()"
   ]
  },
  {
   "cell_type": "code",
   "execution_count": 65,
   "id": "8aa403ad",
   "metadata": {},
   "outputs": [],
   "source": [
    "train_data=data_[:469]\n",
    "valid_data=data_[469:]"
   ]
  },
  {
   "cell_type": "code",
   "execution_count": 66,
   "id": "0467fe39",
   "metadata": {},
   "outputs": [
    {
     "data": {
      "image/png": "[encoded data removed]",
      "text/plain": [
       "<Figure size 864x576 with 1 Axes>"
      ]
     },
     "metadata": {
      "needs_background": "light"
     },
     "output_type": "display_data"
    }
   ],
   "source": [
    "plt.figure(figsize=(12,8))\n",
    "plt.plot(train_data.index,train_data.Number_SKU_Sold,label='Train')\n",
    "plt.plot(valid_data.index,valid_data.Number_SKU_Sold,label='Valid')\n",
    "plt.legend(loc='best')\n",
    "plt.show()"
   ]
  },
  {
   "cell_type": "code",
   "execution_count": 67,
   "id": "bcac9a5e",
   "metadata": {},
   "outputs": [],
   "source": [
    "def rmsle(actual, preds):\n",
    "    for i in range(0,len(preds)):\n",
    "        if preds[i]<0:\n",
    "            preds[i] = 0\n",
    "        else:\n",
    "            pass\n",
    "    \n",
    "    error = (sqrt(mean_squared_log_error(actual, preds)))*100\n",
    "    return error"
   ]
  },
  {
   "cell_type": "markdown",
   "id": "7ba2df2a",
   "metadata": {},
   "source": [
    "# Building TimeSeries Forecasting Models"
   ]
  },
  {
   "cell_type": "code",
   "execution_count": 68,
   "id": "fe9eee35",
   "metadata": {},
   "outputs": [],
   "source": [
    "from statsmodels.tsa.api import ExponentialSmoothing"
   ]
  },
  {
   "cell_type": "code",
   "execution_count": 82,
   "id": "4240772e",
   "metadata": {},
   "outputs": [
    {
     "name": "stdout",
     "output_type": "stream",
     "text": [
      "rmsle score is:  59.24307662565839\n"
     ]
    }
   ],
   "source": [
    "model=ExponentialSmoothing(np.asarray(train_data['Number_SKU_Sold']),seasonal_periods=6,trend='add',seasonal='add')\n",
    "model=model.fit(smoothing_level=0.2,smoothing_slope=0.001,smoothing_seasonal=0.2)\n",
    "\n",
    "preds=model.forecast(len(valid_data))\n",
    "score=rmsle(valid_data['Number_SKU_Sold'],preds)\n",
    "\n",
    "print('rmsle score is: ',score)"
   ]
  },
  {
   "cell_type": "code",
   "execution_count": 84,
   "id": "6d650c34",
   "metadata": {},
   "outputs": [],
   "source": [
    "from itertools import product\n",
    "from tqdm import tqdm_notebook"
   ]
  },
  {
   "cell_type": "code",
   "execution_count": 85,
   "id": "db701ea9",
   "metadata": {},
   "outputs": [
    {
     "data": {
      "text/plain": [
       "36"
      ]
     },
     "execution_count": 85,
     "metadata": {},
     "output_type": "execute_result"
    }
   ],
   "source": [
    "# setting initial values and some bounds for them\n",
    "level = [0.1, 0.3, 0.5, 0.8]\n",
    "smoothing_slope = [0.0001, 0.001, 0.05] \n",
    "smoothing_seasonal = [0.2, 0.4, 0.6]\n",
    "\n",
    "# creating list with all the possible combinations of parameters\n",
    "parameters = product(level, smoothing_slope, smoothing_seasonal)\n",
    "parameters_list = list(parameters)\n",
    "len(parameters_list)"
   ]
  },
  {
   "cell_type": "code",
   "execution_count": 87,
   "id": "f7d289fc",
   "metadata": {},
   "outputs": [],
   "source": [
    "def grid_search(parameters_list):\n",
    "    \n",
    "    results = []\n",
    "    best_error_ = float(\"inf\")\n",
    "\n",
    "    for param in tqdm_notebook(parameters_list):\n",
    "        #training the model\n",
    "        model = ExponentialSmoothing(np.asarray(train_data['Number_SKU_Sold']), seasonal_periods=6, trend='add', seasonal='add')\n",
    "        model = model.fit(smoothing_level=param[0], smoothing_slope=param[1], smoothing_seasonal=param[2])\n",
    "\n",
    "        # predictions and evaluation\n",
    "        preds = model.forecast(len(valid_data)) \n",
    "        score = rmsle(valid_data['Number_SKU_Sold'], preds)\n",
    "        \n",
    "        # saving best model, rmse and parameters\n",
    "        if score < best_error_:\n",
    "            best_model = model\n",
    "            best_error_ = score\n",
    "            best_param = param\n",
    "        results.append([param, score])\n",
    "        \n",
    "    result_table = pd.DataFrame(results)\n",
    "    result_table.columns = ['parameters', 'RMSLE']\n",
    "    \n",
    "    \n",
    "    # sorting in ascending order, the lower rmse is - the better\n",
    "    result_table = result_table.sort_values(by='RMSLE', ascending=True).reset_index(drop=True)\n",
    "    \n",
    "    return result_table"
   ]
  },
  {
   "cell_type": "code",
   "execution_count": 88,
   "id": "4b91773f",
   "metadata": {},
   "outputs": [
    {
     "data": {
      "application/vnd.jupyter.widget-view+json": {
       "model_id": "e3ca9a38eddf45c49a39fa009cae912e",
       "version_major": 2,
       "version_minor": 0
      },
      "text/plain": [
       "  0%|          | 0/36 [00:00<?, ?it/s]"
      ]
     },
     "metadata": {},
     "output_type": "display_data"
    }
   ],
   "source": [
    "result_table = grid_search(parameters_list)"
   ]
  },
  {
   "cell_type": "code",
   "execution_count": 89,
   "id": "e193e349",
   "metadata": {},
   "outputs": [
    {
     "data": {
      "text/html": [
       "<div>\n",
       "<style scoped>\n",
       "    .dataframe tbody tr th:only-of-type {\n",
       "        vertical-align: middle;\n",
       "    }\n",
       "\n",
       "    .dataframe tbody tr th {\n",
       "        vertical-align: top;\n",
       "    }\n",
       "\n",
       "    .dataframe thead th {\n",
       "        text-align: right;\n",
       "    }\n",
       "</style>\n",
       "<table border=\"1\" class=\"dataframe\">\n",
       "  <thead>\n",
       "    <tr style=\"text-align: right;\">\n",
       "      <th></th>\n",
       "      <th>parameters</th>\n",
       "      <th>RMSLE</th>\n",
       "    </tr>\n",
       "  </thead>\n",
       "  <tbody>\n",
       "    <tr>\n",
       "      <th>0</th>\n",
       "      <td>(0.1, 0.001, 0.2)</td>\n",
       "      <td>58.276097</td>\n",
       "    </tr>\n",
       "    <tr>\n",
       "      <th>1</th>\n",
       "      <td>(0.1, 0.0001, 0.2)</td>\n",
       "      <td>58.282484</td>\n",
       "    </tr>\n",
       "    <tr>\n",
       "      <th>2</th>\n",
       "      <td>(0.1, 0.0001, 0.4)</td>\n",
       "      <td>60.916507</td>\n",
       "    </tr>\n",
       "    <tr>\n",
       "      <th>3</th>\n",
       "      <td>(0.1, 0.001, 0.4)</td>\n",
       "      <td>60.936168</td>\n",
       "    </tr>\n",
       "    <tr>\n",
       "      <th>4</th>\n",
       "      <td>(0.1, 0.05, 0.4)</td>\n",
       "      <td>61.243131</td>\n",
       "    </tr>\n",
       "    <tr>\n",
       "      <th>5</th>\n",
       "      <td>(0.1, 0.05, 0.2)</td>\n",
       "      <td>62.588756</td>\n",
       "    </tr>\n",
       "    <tr>\n",
       "      <th>6</th>\n",
       "      <td>(0.3, 0.001, 0.2)</td>\n",
       "      <td>66.326035</td>\n",
       "    </tr>\n",
       "    <tr>\n",
       "      <th>7</th>\n",
       "      <td>(0.1, 0.001, 0.6)</td>\n",
       "      <td>66.849780</td>\n",
       "    </tr>\n",
       "    <tr>\n",
       "      <th>8</th>\n",
       "      <td>(0.1, 0.0001, 0.6)</td>\n",
       "      <td>66.865801</td>\n",
       "    </tr>\n",
       "    <tr>\n",
       "      <th>9</th>\n",
       "      <td>(0.3, 0.0001, 0.2)</td>\n",
       "      <td>67.099067</td>\n",
       "    </tr>\n",
       "    <tr>\n",
       "      <th>10</th>\n",
       "      <td>(0.1, 0.05, 0.6)</td>\n",
       "      <td>75.695581</td>\n",
       "    </tr>\n",
       "    <tr>\n",
       "      <th>11</th>\n",
       "      <td>(0.8, 0.0001, 0.6)</td>\n",
       "      <td>78.780805</td>\n",
       "    </tr>\n",
       "    <tr>\n",
       "      <th>12</th>\n",
       "      <td>(0.3, 0.0001, 0.4)</td>\n",
       "      <td>80.253770</td>\n",
       "    </tr>\n",
       "    <tr>\n",
       "      <th>13</th>\n",
       "      <td>(0.3, 0.001, 0.4)</td>\n",
       "      <td>81.290615</td>\n",
       "    </tr>\n",
       "    <tr>\n",
       "      <th>14</th>\n",
       "      <td>(0.5, 0.001, 0.2)</td>\n",
       "      <td>84.201949</td>\n",
       "    </tr>\n",
       "    <tr>\n",
       "      <th>15</th>\n",
       "      <td>(0.8, 0.001, 0.2)</td>\n",
       "      <td>89.562589</td>\n",
       "    </tr>\n",
       "    <tr>\n",
       "      <th>16</th>\n",
       "      <td>(0.8, 0.0001, 0.2)</td>\n",
       "      <td>91.777678</td>\n",
       "    </tr>\n",
       "    <tr>\n",
       "      <th>17</th>\n",
       "      <td>(0.8, 0.001, 0.6)</td>\n",
       "      <td>93.923972</td>\n",
       "    </tr>\n",
       "    <tr>\n",
       "      <th>18</th>\n",
       "      <td>(0.5, 0.0001, 0.2)</td>\n",
       "      <td>94.446325</td>\n",
       "    </tr>\n",
       "    <tr>\n",
       "      <th>19</th>\n",
       "      <td>(0.3, 0.0001, 0.6)</td>\n",
       "      <td>111.384777</td>\n",
       "    </tr>\n",
       "    <tr>\n",
       "      <th>20</th>\n",
       "      <td>(0.5, 0.0001, 0.4)</td>\n",
       "      <td>111.915673</td>\n",
       "    </tr>\n",
       "    <tr>\n",
       "      <th>21</th>\n",
       "      <td>(0.3, 0.001, 0.6)</td>\n",
       "      <td>115.832190</td>\n",
       "    </tr>\n",
       "    <tr>\n",
       "      <th>22</th>\n",
       "      <td>(0.5, 0.001, 0.4)</td>\n",
       "      <td>118.742666</td>\n",
       "    </tr>\n",
       "    <tr>\n",
       "      <th>23</th>\n",
       "      <td>(0.8, 0.0001, 0.4)</td>\n",
       "      <td>298.322542</td>\n",
       "    </tr>\n",
       "    <tr>\n",
       "      <th>24</th>\n",
       "      <td>(0.5, 0.0001, 0.6)</td>\n",
       "      <td>321.036467</td>\n",
       "    </tr>\n",
       "    <tr>\n",
       "      <th>25</th>\n",
       "      <td>(0.5, 0.001, 0.6)</td>\n",
       "      <td>446.484621</td>\n",
       "    </tr>\n",
       "    <tr>\n",
       "      <th>26</th>\n",
       "      <td>(0.8, 0.001, 0.4)</td>\n",
       "      <td>635.141213</td>\n",
       "    </tr>\n",
       "    <tr>\n",
       "      <th>27</th>\n",
       "      <td>(0.3, 0.05, 0.2)</td>\n",
       "      <td>1258.373015</td>\n",
       "    </tr>\n",
       "    <tr>\n",
       "      <th>28</th>\n",
       "      <td>(0.8, 0.05, 0.6)</td>\n",
       "      <td>1335.227155</td>\n",
       "    </tr>\n",
       "    <tr>\n",
       "      <th>29</th>\n",
       "      <td>(0.3, 0.05, 0.4)</td>\n",
       "      <td>1340.674425</td>\n",
       "    </tr>\n",
       "    <tr>\n",
       "      <th>30</th>\n",
       "      <td>(0.3, 0.05, 0.6)</td>\n",
       "      <td>1415.103554</td>\n",
       "    </tr>\n",
       "    <tr>\n",
       "      <th>31</th>\n",
       "      <td>(0.8, 0.05, 0.2)</td>\n",
       "      <td>1444.811378</td>\n",
       "    </tr>\n",
       "    <tr>\n",
       "      <th>32</th>\n",
       "      <td>(0.5, 0.05, 0.2)</td>\n",
       "      <td>1444.833255</td>\n",
       "    </tr>\n",
       "    <tr>\n",
       "      <th>33</th>\n",
       "      <td>(0.5, 0.05, 0.4)</td>\n",
       "      <td>1460.715291</td>\n",
       "    </tr>\n",
       "    <tr>\n",
       "      <th>34</th>\n",
       "      <td>(0.5, 0.05, 0.6)</td>\n",
       "      <td>1470.694433</td>\n",
       "    </tr>\n",
       "    <tr>\n",
       "      <th>35</th>\n",
       "      <td>(0.8, 0.05, 0.4)</td>\n",
       "      <td>1486.364155</td>\n",
       "    </tr>\n",
       "  </tbody>\n",
       "</table>\n",
       "</div>"
      ],
      "text/plain": [
       "            parameters        RMSLE\n",
       "0    (0.1, 0.001, 0.2)    58.276097\n",
       "1   (0.1, 0.0001, 0.2)    58.282484\n",
       "2   (0.1, 0.0001, 0.4)    60.916507\n",
       "3    (0.1, 0.001, 0.4)    60.936168\n",
       "4     (0.1, 0.05, 0.4)    61.243131\n",
       "5     (0.1, 0.05, 0.2)    62.588756\n",
       "6    (0.3, 0.001, 0.2)    66.326035\n",
       "7    (0.1, 0.001, 0.6)    66.849780\n",
       "8   (0.1, 0.0001, 0.6)    66.865801\n",
       "9   (0.3, 0.0001, 0.2)    67.099067\n",
       "10    (0.1, 0.05, 0.6)    75.695581\n",
       "11  (0.8, 0.0001, 0.6)    78.780805\n",
       "12  (0.3, 0.0001, 0.4)    80.253770\n",
       "13   (0.3, 0.001, 0.4)    81.290615\n",
       "14   (0.5, 0.001, 0.2)    84.201949\n",
       "15   (0.8, 0.001, 0.2)    89.562589\n",
       "16  (0.8, 0.0001, 0.2)    91.777678\n",
       "17   (0.8, 0.001, 0.6)    93.923972\n",
       "18  (0.5, 0.0001, 0.2)    94.446325\n",
       "19  (0.3, 0.0001, 0.6)   111.384777\n",
       "20  (0.5, 0.0001, 0.4)   111.915673\n",
       "21   (0.3, 0.001, 0.6)   115.832190\n",
       "22   (0.5, 0.001, 0.4)   118.742666\n",
       "23  (0.8, 0.0001, 0.4)   298.322542\n",
       "24  (0.5, 0.0001, 0.6)   321.036467\n",
       "25   (0.5, 0.001, 0.6)   446.484621\n",
       "26   (0.8, 0.001, 0.4)   635.141213\n",
       "27    (0.3, 0.05, 0.2)  1258.373015\n",
       "28    (0.8, 0.05, 0.6)  1335.227155\n",
       "29    (0.3, 0.05, 0.4)  1340.674425\n",
       "30    (0.3, 0.05, 0.6)  1415.103554\n",
       "31    (0.8, 0.05, 0.2)  1444.811378\n",
       "32    (0.5, 0.05, 0.2)  1444.833255\n",
       "33    (0.5, 0.05, 0.4)  1460.715291\n",
       "34    (0.5, 0.05, 0.6)  1470.694433\n",
       "35    (0.8, 0.05, 0.4)  1486.364155"
      ]
     },
     "execution_count": 89,
     "metadata": {},
     "output_type": "execute_result"
    }
   ],
   "source": [
    "result_table"
   ]
  },
  {
   "cell_type": "code",
   "execution_count": 92,
   "id": "312b4411",
   "metadata": {},
   "outputs": [
    {
     "name": "stdout",
     "output_type": "stream",
     "text": [
      "RMSLE for Holt Winter is: 58.28248425065201\n"
     ]
    }
   ],
   "source": [
    "#training the model\n",
    "model = ExponentialSmoothing(np.asarray(train_data['Number_SKU_Sold']), seasonal_periods=6, trend='add', seasonal='add')\n",
    "model = model.fit(smoothing_level=0.1, smoothing_slope=0.0001, smoothing_seasonal=0.2)\n",
    "    \n",
    "# predictions and evaluation\n",
    "preds = model.forecast(len(valid_data)) \n",
    "score = rmsle(valid_data['Number_SKU_Sold'], preds)\n",
    "\n",
    "# results\n",
    "print('RMSLE for Holt Winter is:', score)"
   ]
  },
  {
   "cell_type": "code",
   "execution_count": 93,
   "id": "96d02e6e",
   "metadata": {},
   "outputs": [
    {
     "data": {
      "image/png": "[encoded data removed]",
      "text/plain": [
       "<Figure size 864x576 with 1 Axes>"
      ]
     },
     "metadata": {
      "needs_background": "light"
     },
     "output_type": "display_data"
    }
   ],
   "source": [
    "plt.figure(figsize = (12,8))\n",
    "\n",
    "plt.plot(train_data.index , train_data['Number_SKU_Sold'], label = 'train')\n",
    "plt.plot(valid_data.index , valid_data['Number_SKU_Sold'], label = 'valid')\n",
    "plt.plot(valid_data.index , preds, label = 'forecast')\n",
    "plt.legend(loc='best')\n",
    "\n",
    "plt.show()"
   ]
  },
  {
   "cell_type": "code",
   "execution_count": null,
   "id": "0a56842d",
   "metadata": {},
   "outputs": [],
   "source": []
  }
 ],
 "metadata": {
  "kernelspec": {
   "display_name": "Python 3",
   "language": "python",
   "name": "python3"
  },
  "language_info": {
   "codemirror_mode": {
    "name": "ipython",
    "version": 3
   },
   "file_extension": ".py",
   "mimetype": "text/x-python",
   "name": "python",
   "nbconvert_exporter": "python",
   "pygments_lexer": "ipython3",
   "version": "3.8.8"
  }
 },
 "nbformat": 4,
 "nbformat_minor": 5
}
